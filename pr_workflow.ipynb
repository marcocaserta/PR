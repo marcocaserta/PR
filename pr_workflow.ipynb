{
 "cells": [
  {
   "cell_type": "markdown",
   "id": "0cb4ff95-c131-4ea3-a76d-0ae41e48d8a5",
   "metadata": {},
   "source": [
    "# PR Processing Workflow\n",
    "\n",
    "Dec. 16, 2023: Refactoring the code of `read_files.ipynb`, to define the pipeline. The code below covers 4 steps (plus one extra step, not used in the final analysis) and assumes that the excel files containing the PR text have already been produced. To extract the text from the html and pdf files, see `read_files.ipynb`. We thus assume that the folder `data` contains one file for each company, with name `{company}.xlsx`, with a column `text` containing the processed text of each PR."
   ]
  },
  {
   "cell_type": "code",
   "execution_count": 94,
   "id": "1e72507b-7db3-4fe8-8a03-123e99d6f37e",
   "metadata": {},
   "outputs": [
    {
     "name": "stdout",
     "output_type": "stream",
     "text": [
      "The lab_black extension is already loaded. To reload it, use:\n",
      "  %reload_ext lab_black\n",
      "The jupyterlab_notify extension is already loaded. To reload it, use:\n",
      "  %reload_ext jupyterlab_notify\n"
     ]
    }
   ],
   "source": [
    "import os\n",
    "import numpy as np\n",
    "import pandas as pd\n",
    "from sentence_transformers import SentenceTransformer, util\n",
    "import torch\n",
    "import nltk\n",
    "from nltk.tokenize import sent_tokenize\n",
    "import pickle\n",
    "from tqdm.notebook import tqdm\n",
    "from tabulate import tabulate\n",
    "\n",
    "from sklearn.feature_extraction.text import CountVectorizer\n",
    "from bertopic import BERTopic\n",
    "from bertopic.vectorizers import ClassTfidfTransformer\n",
    "from bertopic.representation import MaximalMarginalRelevance\n",
    "\n",
    "from sklearn.metrics.pairwise import cosine_similarity\n",
    "\n",
    "%load_ext lab_black\n",
    "%load_ext jupyterlab_notify"
   ]
  },
  {
   "cell_type": "code",
   "execution_count": 95,
   "id": "7578c30f-dcf6-4410-a31b-1ba654b10eba",
   "metadata": {},
   "outputs": [
    {
     "name": "stdout",
     "output_type": "stream",
     "text": [
      "Analyzing 30 companies.\n"
     ]
    }
   ],
   "source": [
    "companies = [\n",
    "    \"Acerinox\",\n",
    "    \"ACS\",\n",
    "    \"Bancosantander\",\n",
    "    \"Bankinter\",\n",
    "    \"BBVA\",\n",
    "    \"Caixa\",\n",
    "    \"Colonial\",\n",
    "    \"Enagas\",\n",
    "    \"Endesa\",\n",
    "    \"Ferrovial\",\n",
    "    \"Grifols\",\n",
    "    \"IAG\",\n",
    "    \"Iberdrola\",\n",
    "    \"Inditex\",\n",
    "    \"Acciona\",\n",
    "    \"Arcelormittal\",\n",
    "    \"Bancosabadell\",\n",
    "    \"Cellnex\",\n",
    "    \"Fluidra\",\n",
    "    \"Indra\",\n",
    "    \"Logista\",\n",
    "    \"Melia\",\n",
    "    \"Merlin\",\n",
    "    \"Naturgy\",\n",
    "    \"Red\",\n",
    "    \"Repsol\",\n",
    "    \"Rovi\",\n",
    "    \"Sacyr\",\n",
    "    \"Solaria\",\n",
    "    \"Telefonica\",\n",
    "]\n",
    "print(f\"Analyzing {len(companies)} companies.\")"
   ]
  },
  {
   "cell_type": "markdown",
   "id": "612d0c0f-edbb-4c04-829b-0be9e5425250",
   "metadata": {},
   "source": [
    "## Code and Auxiliary Functions"
   ]
  },
  {
   "cell_type": "code",
   "execution_count": 102,
   "id": "82d5b4a4-8778-4844-8340-1e7069f14479",
   "metadata": {},
   "outputs": [],
   "source": [
    "def get_sentences(docs_list, stopwords):\n",
    "    sentences = []\n",
    "    for doc in docs_list:\n",
    "        aux = sent_tokenize(doc)\n",
    "        for s in aux:\n",
    "            # print(\"s = \", s)\n",
    "            tokens = nltk.tokenize.wordpunct_tokenize(s)\n",
    "            s = \" \".join([w for w in tokens if w.isalnum() and w not in stopwords])\n",
    "            sentences.append(s)\n",
    "            # print(sentences)\n",
    "            # input(\"aka\")\n",
    "    return sentences\n",
    "\n",
    "\n",
    "def get_embeddings(docs):\n",
    "    sentence_model = SentenceTransformer(\"paraphrase-multilingual-MiniLM-L12-v2\")\n",
    "    embeddings = sentence_model.encode(docs, show_progress_bar=True)\n",
    "    return embeddings\n",
    "\n",
    "\n",
    "def get_topics(language, sentences, embeddings, nr_topics=10):\n",
    "\n",
    "    vectorizer_model = CountVectorizer(\n",
    "        stop_words=\"english\"\n",
    "    )  # should be ignored in spanish (stop_words='spanish' does not exist)\n",
    "    ctfidf_model = ClassTfidfTransformer(\n",
    "        reduce_frequent_words=True, bm25_weighting=True\n",
    "    )\n",
    "    # representation_model = KeyBERTInspired()\n",
    "    representation_model = MaximalMarginalRelevance(diversity=0.3)\n",
    "    # topic_model = BERTopic(embedding_model= 'paraphrase-multilingual-MiniLM-L12-v2', representation_model=representation_model,\n",
    "    #                       vectorizer_model=vectorizer_model, ctfidf_model=ctfidf_model, nr_topics=nr_topics, reduce_frequent_words=True, verbose=True)\n",
    "    topic_model = BERTopic(\n",
    "        embedding_model=\"paraphrase-multilingual-MiniLM-L12-v2\",\n",
    "        representation_model=representation_model,\n",
    "        vectorizer_model=vectorizer_model,\n",
    "        ctfidf_model=ctfidf_model,\n",
    "        nr_topics=nr_topics,\n",
    "        verbose=True,\n",
    "    )\n",
    "\n",
    "    # topic_model = BERTopic(embedding_model= 'LaBSE', representation_model=representation_model, vectorizer_model=vectorizer_model, ctfidf_model=ctfidf_model, nr_topics=nr_topics)\n",
    "\n",
    "    topics, probs = topic_model.fit_transform(sentences, embeddings)\n",
    "\n",
    "    return topic_model, topics, probs\n",
    "\n",
    "\n",
    "def topics_modeling(company):\n",
    "\n",
    "    for label, language, bert_language in zip(labels, languages, bert_languages):\n",
    "        print(f\"\\t - Language : {language}\")\n",
    "        filename = os.path.join(\n",
    "            \"data\", \"sentences\", (\"sentences_\" + company + \"_\" + label + \".pkl\")\n",
    "        )\n",
    "        sentences = pickle.load(open(filename, \"rb\"))\n",
    "        print(\"[S1.] \\t Sentences Imported.\")\n",
    "\n",
    "        filename = os.path.join(\"data\", \"embeddings\", (company + \"_\" + label + \".pkl\"))\n",
    "        embs = pickle.load(open(filename, \"rb\"))\n",
    "        print(\n",
    "            f\"[S2.] \\t Embeddings Imported. Starting topic modeling using transformer 'paraphrase-multilingual-MiniLM-L12-v2'...\"\n",
    "        )\n",
    "        model, topic, prob = get_topics(\n",
    "            language=language, sentences=sentences, embeddings=embs\n",
    "        )\n",
    "        print(\"[S2.] \\t Topics Modeling done.\")\n",
    "        print(model.get_topic_info())\n",
    "        filename = os.path.join(\"models\", (company + \"_\" + label + \".bert\"))\n",
    "        model.save(filename)\n",
    "        print(f\"[S3.] \\t Model {filename} saved to disk.\")\n",
    "        print(\"\\n\")\n",
    "\n",
    "\n",
    "def sentence_tokenize(company, df):\n",
    "\n",
    "    print(\"\\n[S1.] Tonekize sentences\")\n",
    "    for label, language, bert_language in zip(labels, languages, bert_languages):\n",
    "        print(f\"\\t - Language : {language}\")\n",
    "        doc_list = df[df.language == label].text.values\n",
    "        stopwords = set(nltk.corpus.stopwords.words(language))\n",
    "        sentences = get_sentences(doc_list, stopwords)\n",
    "        filename = os.path.join(\n",
    "            \"data\", \"sentences\", (\"sentences_\" + company + \"_\" + label + \".pkl\")\n",
    "        )\n",
    "        pickle.dump(sentences, open(filename, \"wb\"))\n",
    "        print(\n",
    "            f\"\\t[S1-{label}.] \\t Sentences tonenized saved to disk. Total nr. sentences = {len(sentences)}.\"\n",
    "        )\n",
    "    print(\"[S1.] Done with tonekize sentences\")\n",
    "\n",
    "\n",
    "def embeddings_creation(company):\n",
    "    print(\"\\n[S2.] Embeddings creation\")\n",
    "    for label, language, bert_language in zip(labels, languages, bert_languages):\n",
    "        filename = os.path.join(\n",
    "            \"data\", \"sentences\", (\"sentences_\" + company + \"_\" + label + \".pkl\")\n",
    "        )\n",
    "        sentences = pickle.load(open(filename, \"rb\"))\n",
    "        print(f\"[S2-{label}.] \\t Starting with embeddings creation.\")\n",
    "        embs = get_embeddings(sentences)\n",
    "        filename = os.path.join(\"data\", \"embeddings\", (company + \"_\" + label + \".pkl\"))\n",
    "        print(f\"[S2-{label}.] \\t Embeddings file {filename} saved to disk.\")\n",
    "        pickle.dump(embs, open(filename, \"wb\"))\n",
    "    print(\"[S2.] Done with embeddings creation\")\n",
    "\n",
    "\n",
    "def pr_2_pr(companies, transformer_type=\"laBSE\", en_to_es=True, save_file=False):\n",
    "    # sentence transformer to find 1:1 match\n",
    "    # use spanish as corpus and english for queries\n",
    "\n",
    "    print(\n",
    "        f\"\\t [NOTE] Similarity scores computed using '{transformer_type}' transformer\"\n",
    "    )\n",
    "    model = SentenceTransformer(transformer_type)\n",
    "\n",
    "    similarity_scores = []\n",
    "    nr_ens = []\n",
    "    nr_ess = []\n",
    "\n",
    "    print(f\"** Sentence Transformers (match) for Company '{company}' **\")\n",
    "    name = company + \".xlsx\"\n",
    "    df = pd.read_excel(os.path.join(\"data\", name))\n",
    "    df = df[~df.text.isna()]\n",
    "    nr_en = df[df.language == \"en\"].shape[0]\n",
    "    nr_es = df[df.language == \"es\"].shape[0]\n",
    "    en_list = df[df.language == \"en\"].text.to_list()\n",
    "    en_files = df[df.language == \"en\"].filename.to_list()\n",
    "    es_list = df[df.language == \"es\"].text.to_list()\n",
    "    es_files = df[df.language == \"es\"].filename.to_list()\n",
    "    # stopwords = set(nltk.corpus.stopwords.words(\"spanish\"))\n",
    "\n",
    "    if en_to_es:\n",
    "        corpus_embedding = model.encode(es_list, convert_to_tensor=True)\n",
    "        top_k = min(1, len(es_list))\n",
    "        corpus_list = es_list\n",
    "        corpus_files_list = es_files\n",
    "        query_list = en_list\n",
    "        query_files_list = en_files\n",
    "        name = \"comparison_\" + company + \"_en2es.xlsx\"\n",
    "    else:\n",
    "        corpus_embedding = model.encode(en_list, convert_to_tensor=True)\n",
    "        top_k = min(1, len(en_list))\n",
    "        corpus_list = en_list\n",
    "        corpus_files_list = en_files\n",
    "        query_list = es_list\n",
    "        query_files_list = es_files\n",
    "        name = \"comparison_\" + company + \"_es2en.xlsx\"\n",
    "\n",
    "    best_match = []\n",
    "    best_score = []\n",
    "    best_name = []\n",
    "    for query in tqdm(query_list):\n",
    "        query_embedding = model.encode(query, convert_to_tensor=True)\n",
    "\n",
    "        cos_scores = util.cos_sim(query_embedding, corpus_embedding)[0]\n",
    "        top_results = torch.topk(cos_scores, k=top_k)\n",
    "        # print(\"Query:\", query)\n",
    "        # print(\"---------------------------\")\n",
    "        for score, idx in zip(top_results[0], top_results[1]):\n",
    "            # print(f'[{idx:4d}]\\t{round(score.item(), 3)} | {corpus_list[idx]}')\n",
    "            best_match.append(idx)\n",
    "            best_score.append(score.item())\n",
    "            best_name.append(corpus_files_list[idx])\n",
    "    if en_to_es:\n",
    "        print(\n",
    "            f\"{company:15s}\\t similarity score from 'en' to 'es' = {np.mean(best_score):.3f}.\"\n",
    "        )\n",
    "    else:\n",
    "        print(\n",
    "            f\"{company:15s}\\t similarity score from 'es' to 'en' = {np.mean(best_score):.3f}.\"\n",
    "        )\n",
    "\n",
    "    similarity_scores.append(np.mean(best_score))\n",
    "    nr_ens.append(nr_en)\n",
    "    nr_ess.append(nr_es)\n",
    "    if save_file:\n",
    "        df_comparison = (\n",
    "            pd.DataFrame(\n",
    "                {\n",
    "                    \"similarity\": best_score,\n",
    "                    \"query\": query_list,\n",
    "                    \"match\": [corpus_list[i] for i in best_match],\n",
    "                    \"idx_match\": [int(i) for i in best_match],\n",
    "                    \"query_filename\": query_files_list,\n",
    "                    \"match_filename\": best_name,\n",
    "                }\n",
    "            )\n",
    "            .reset_index()\n",
    "            .rename(columns={\"index\": \"idx_query\"})\n",
    "        )\n",
    "        filename = os.path.join(\"results/best_matching/\", name)\n",
    "        df_comparison.to_excel(filename, index=False)\n",
    "        print(\"Comparison file saved to disk : '{}'.\".format(filename))\n",
    "    return similarity_scores, nr_ens, nr_ess\n",
    "\n",
    "\n",
    "def get_similarity_scores(company, transformer_type, with_printing=True):\n",
    "    \"\"\"Get pr_2_pr similarity score, using a query and finding the best match.\n",
    "\n",
    "    NOTE: For Rovi, Santander, and Solaria, manually change header of\n",
    "    column B in the data/company.xlslx excel file (to \"filename\")\"\"\"\n",
    "\n",
    "    from_en_to_es = [True, False]\n",
    "    suffixes = [\"en2es\", \"es_to_en\"]\n",
    "\n",
    "    for en_to_es, suffix in zip(from_en_to_es, suffixes):\n",
    "        similarity_scores, nr_ens, nr_ess = pr_2_pr(\n",
    "            company, transformer_type, en_to_es=en_to_es, save_file=True\n",
    "        )\n",
    "\n",
    "        df_sim = pd.DataFrame(\n",
    "            {\n",
    "                \"company\": company,\n",
    "                \"similarity\": similarity_scores,\n",
    "                \"nr_en\": nr_ens,\n",
    "                \"nr_es\": nr_ess,\n",
    "            }\n",
    "        )\n",
    "        if with_printing:\n",
    "            print(tabulate(df_sim, headers=\"keys\", tablefmt=\"fancy_grid\"))\n",
    "\n",
    "\n",
    "def get_summary_similarity(companies):\n",
    "    nr_ess = np.empty(len(companies))\n",
    "    nr_ens = np.empty(len(companies))\n",
    "    sim_en2es = np.empty(len(companies))\n",
    "    sim_es2en = np.empty(len(companies))\n",
    "\n",
    "    for i, company in enumerate(tqdm(companies)):\n",
    "        df_en_es = pd.read_excel(\n",
    "            f\"results/best_matching/comparison_{company}_en2es.xlsx\"\n",
    "        )\n",
    "        df_es_en = pd.read_excel(\n",
    "            f\"results/best_matching/comparison_{company}_es2en.xlsx\"\n",
    "        )\n",
    "        nr_ess[i] = df_es_en.shape[0]\n",
    "        nr_ens[i] = df_en_es.shape[0]\n",
    "        sim_en2es[i] = df_en_es.similarity.mean()\n",
    "        sim_es2en[i] = df_es_en.similarity.mean()\n",
    "\n",
    "    df_temp = pd.DataFrame(\n",
    "        {\n",
    "            \"company\": companies,\n",
    "            \"nr_en\": nr_ens,\n",
    "            \"nr_es\": nr_ess,\n",
    "            \"similarity_en_to_es\": sim_en2es,\n",
    "            \"similarity_es_to_en\": sim_es2en,\n",
    "        }\n",
    "    ).sort_values(by=\"company\")\n",
    "    filename = \"results/avg_similarity_company_both.xlsx\"\n",
    "    df_temp.to_excel(filename, index=False)\n",
    "    print(f\"Saving summary table to disk file: '{filename}'.\")\n",
    "    print(tabulate(df_temp, headers=\"keys\", tablefmt=\"fancy_grid\"))\n",
    "\n",
    "\n",
    "def match_topics(company):\n",
    "    \"\"\"Try to find the best match between topics of the same company in English and Spanish.\"\"\"\n",
    "\n",
    "    for company in companies:\n",
    "        model_en = BERTopic.load(f\"models/{company}_en.bert\")\n",
    "        model_es = BERTopic.load(f\"models/{company}_es.bert\")\n",
    "        M = cosine_similarity(\n",
    "            model_en.topic_embeddings_[1:], model_es.topic_embeddings_[1:]\n",
    "        )\n",
    "        idx = np.argmax(M, axis=1).tolist()  # best match for each english topic\n",
    "        dfE = pd.DataFrame(model_en.get_topic_info()[1:]).rename(\n",
    "            columns={\"Name\": \"Name EN\"}\n",
    "        )\n",
    "        dfS = (\n",
    "            pd.DataFrame(model_es.get_topic_info().loc[[i + 1 for i in idx]])\n",
    "            .reset_index()\n",
    "            .rename(columns={\"Name\": \"Best Match ES\"})\n",
    "        )\n",
    "        dfMatch = (\n",
    "            pd.concat(\n",
    "                [dfE.reset_index(), dfS.reset_index(), pd.DataFrame(M.max(axis=1))],\n",
    "                axis=1,\n",
    "            )\n",
    "            .rename(columns={0: \"similarity\"})\n",
    "            .drop(columns={\"index\", \"level_0\"})\n",
    "        )\n",
    "        print(\n",
    "            f\"[{company:>20s}]\\tTotal similarity score = {dfMatch.similarity.mean():.3f}\"\n",
    "        )\n",
    "        dfMatch.to_excel(f\"results/topics/topics_match_{company}.xlsx\", index=False)\n",
    "        print(f\"Saving file 'results/topics/topics_match_{company}.xlsx' to disk.\")\n",
    "\n",
    "        cols = [\"topic_\" + str(i) for i in range(dfMatch.shape[0])]\n",
    "        df_en = pd.DataFrame(model_en.get_topics()).iloc[:, 1:]\n",
    "        df_es = pd.DataFrame(model_es.get_topics())[idx]\n",
    "        df_en.columns = cols\n",
    "        df_es.columns = cols\n",
    "        pd.concat([df_en, df_es], axis=0).reset_index().to_excel(\n",
    "            f\"results/topics/topics_details_{company}.xlsx\", index=False\n",
    "        )\n",
    "        print(f\"Saving file 'results/topics/topics_details_{company}.xlsx' to disk.\")\n",
    "\n",
    "\n",
    "def topics_on_low_similarity_pr(company, with_printing=True):\n",
    "    \"\"\"Extract topics only using PR with low similarity.\n",
    "\n",
    "    A PR has a low similarity if the similarity score is in the botton 20th percentile.\n",
    "    \"\"\"\n",
    "\n",
    "    suffixes = [\"en2es\", \"es2en\"]\n",
    "    print(f\"** Extracting topics on low similarity PR for Company '{company}' **\")\n",
    "\n",
    "    for label, language, bert_language, suffix in zip(\n",
    "        labels, languages, bert_languages, suffixes\n",
    "    ):\n",
    "        print(f\"\\t - Language : {language}\")\n",
    "        df = pd.read_excel(f\"results/best_matching/comparison_{company}_{suffix}.xlsx\")\n",
    "        doc_list = df[df.similarity < np.percentile(df.similarity, q=20)][\n",
    "            \"query\"\n",
    "        ].values\n",
    "        print(f\"\\tExtracting {len(doc_list)} PR with low similarity...\")\n",
    "\n",
    "        stopwords = set(nltk.corpus.stopwords.words(language))\n",
    "        print(\"[S1-s.] \\t Tonekize sentences\")\n",
    "        sentences = get_sentences(doc_list, stopwords)\n",
    "        filename = os.path.join(\n",
    "            \"data\", \"sentences\", (\"sentences_lowsim_\" + company + \"_\" + label + \".pkl\")\n",
    "        )\n",
    "        pickle.dump(sentences, open(filename, \"wb\"))\n",
    "        print(\n",
    "            \"[S1-e.] \\t Sentences tonenized saved to disk. Total nr. sentences = {}.\".format(\n",
    "                len(sentences)\n",
    "            )\n",
    "        )\n",
    "\n",
    "        print(\"[S2-s.] \\t Starting with embeddings creation.\")\n",
    "        embs = get_embeddings(sentences)\n",
    "        filename = os.path.join(\n",
    "            \"data\", \"embeddings\", (company + \"_lowsim_\" + label + \".pkl\")\n",
    "        )\n",
    "        print(f\"[S2-e.] \\t Embeddings file {filename} saved to disk.\")\n",
    "        pickle.dump(embs, open(filename, \"wb\"))\n",
    "\n",
    "        embs = pickle.load(open(filename, \"rb\"))\n",
    "        print(\n",
    "            f\"[S2.] \\t Embeddings imported from {filename}. Starting topic modeling...\"\n",
    "        )\n",
    "        model, topic, prob = get_topics(\n",
    "            language=language, sentences=sentences, embeddings=embs\n",
    "        )\n",
    "        print(\"[S2.] \\t Topics Modeled\")\n",
    "        print(model.get_topic_info())\n",
    "        df_topic = pd.DataFrame(model.get_topics()).iloc[:, 1:]\n",
    "        namefile = f\"results/topics/topics_details_lowsim_{company}_{label}.xlsx\"\n",
    "        df_topic.to_excel(namefile, index=False)\n",
    "        print(f\"Topics details for company {company} saved to disk. File '{namefile}'\")\n",
    "        if with_printing:\n",
    "            print(df_topic)"
   ]
  },
  {
   "cell_type": "markdown",
   "id": "f933a2fb-a4d2-42aa-ba4f-36d5c60c6588",
   "metadata": {},
   "source": [
    "## Main"
   ]
  },
  {
   "cell_type": "markdown",
   "id": "6eb8284a-d5e3-40a0-ada5-2e0932223256",
   "metadata": {},
   "source": [
    "1. Sentence tokenize: Save sentences in file `data/sentences/company_lang_.pkl`\n",
    "2. Embeddings creation: Read the file created in step 1, and create embeddings. Saved in file `data/embeddings/company_lang.pkl`\n",
    "3. Get similarity score for `en2es` and `es2en`. This produces two files, `comparison_company_lang2lang.xlsx`, where `lang2lang`indicates the language of the query (first language) and the best match (second language). **NOTE**: We can choose between two transformers; however, for this task, the `LaBSE` transfomer seems to be the best.\n",
    "4. Get topics using low similarity PR. For each language, we identify the PR with a similarity score in the bottom 20th percentile, in each language. For this subset of PR, we extract the most representative topics, up to a maximum of 10 topics. **NOTE**: For this task, we use the model `paraphrase-multilingual-MiniLM-L12-v2`, since it seems to provide better performance for the topic modeling task.\n",
    "5. Extra Tasks:\n",
    ">- Topic modeling for each company. We store the top 10 topics in an excel file.\n",
    ">- Topics match for each company. We try to match each english topic with the best match (closest cosine similarity score) among the spanish topics.\n",
    "Note that these extra tasks do not seem to be too informative. "
   ]
  },
  {
   "cell_type": "code",
   "execution_count": 99,
   "id": "03cffa84-2dfd-446e-b785-56ed7c21b99b",
   "metadata": {},
   "outputs": [
    {
     "name": "stdout",
     "output_type": "stream",
     "text": [
      "[ 0/30]\t** Sentences and Embeddings Creation for Company 'Acerinox' **\n",
      "** Extracting topics on low similarity PR for Company 'Acerinox' **\n",
      "\t - Language : english\n",
      "\tExtracting 46 PR with low similarity...\n",
      "[S1-s.] \t Tonekize sentences\n",
      "[S1-e.] \t Sentences tonenized saved to disk. Total nr. sentences = 495.\n",
      "[S2-s.] \t Starting with embeddings creation.\n"
     ]
    },
    {
     "data": {
      "application/vnd.jupyter.widget-view+json": {
       "model_id": "248cc3129f614ea1b0ea9bc80419b3d9",
       "version_major": 2,
       "version_minor": 0
      },
      "text/plain": [
       "Batches:   0%|          | 0/16 [00:00<?, ?it/s]"
      ]
     },
     "metadata": {},
     "output_type": "display_data"
    },
    {
     "name": "stdout",
     "output_type": "stream",
     "text": [
      "[S2-e.] \t Embeddings file data/embeddings/Acerinox_lowsim_en.pkl saved to disk.\n",
      "[S2.] \t Embeddings imported from {filename}. Starting topic modeling...\n"
     ]
    },
    {
     "name": "stderr",
     "output_type": "stream",
     "text": [
      "2023-12-16 15:14:58,146 - BERTopic - Reduced dimensionality\n",
      "2023-12-16 15:14:58,153 - BERTopic - Clustered reduced embeddings\n",
      "2023-12-16 15:15:00,439 - BERTopic - Reduced number of topics from 10 to 10\n"
     ]
    },
    {
     "name": "stdout",
     "output_type": "stream",
     "text": [
      "[S2.] \t Topics Modeled\n",
      "   Topic  Count                                         Name\n",
      "0     -1     24         -1_amounted_payments_million_service\n",
      "1      0     19          0_dividend_payment_distributed_euro\n",
      "2      1     15          1_sustainable_banks_financing_green\n",
      "3      2     14                2_metals_vdm_competition_2020\n",
      "4      3     40               3_ebitda_million_quarter_taxes\n",
      "5      4     20           4_donations_gibraltar_aid_pandemic\n",
      "6      5     72  5_director_chairman_directors_reappointment\n",
      "7      6    239             6_steel_market_production_safety\n",
      "8      7     32         7_improvement_savings_costs_recovery\n",
      "9      8     20         8_digital_360_lighting_excellence360\n",
      "Topics details for company Acerinox saved to disk. File 'results/topics/topics_details_lowsim_Acerinox_en.xlsx'\n",
      "\t - Language : spanish\n",
      "\tExtracting 46 PR with low similarity...\n",
      "[S1-s.] \t Tonekize sentences\n",
      "[S1-e.] \t Sentences tonenized saved to disk. Total nr. sentences = 509.\n",
      "[S2-s.] \t Starting with embeddings creation.\n"
     ]
    },
    {
     "data": {
      "application/vnd.jupyter.widget-view+json": {
       "model_id": "c9ef6642b31c488781053ccc1fd378d4",
       "version_major": 2,
       "version_minor": 0
      },
      "text/plain": [
       "Batches:   0%|          | 0/16 [00:00<?, ?it/s]"
      ]
     },
     "metadata": {},
     "output_type": "display_data"
    },
    {
     "name": "stdout",
     "output_type": "stream",
     "text": [
      "[S2-e.] \t Embeddings file data/embeddings/Acerinox_lowsim_es.pkl saved to disk.\n",
      "[S2.] \t Embeddings imported from {filename}. Starting topic modeling...\n"
     ]
    },
    {
     "name": "stderr",
     "output_type": "stream",
     "text": [
      "2023-12-16 15:15:07,489 - BERTopic - Reduced dimensionality\n",
      "2023-12-16 15:15:07,498 - BERTopic - Clustered reduced embeddings\n",
      "2023-12-16 15:15:14,662 - BERTopic - Reduced number of topics from 20 to 10\n"
     ]
    },
    {
     "name": "stdout",
     "output_type": "stream",
     "text": [
      "[S2.] \t Topics Modeled\n",
      "   Topic  Count                                            Name\n",
      "0     -1     60            -1_ventas_factoría_reducir_emisiones\n",
      "1      0    113                0_inoxidable_mercado_acero_euros\n",
      "2      1     81    1_sostenible_sostenibilidad_gestión_gobierno\n",
      "3      2     49          2_harvard_business_consejera_ingeniero\n",
      "4      3     46      3_presidente_igualdad_diversidad_propondrá\n",
      "5      4     45      4_gibraltar_emisiones_pandemia_neutralidad\n",
      "6      5     44  5_excellence_digital_transformación_aprovechar\n",
      "7      6     34         6_accionistas_general_dividendo_capital\n",
      "8      7     26     7_estratégicas_mejorarán_velázquez_delegado\n",
      "9      8     11         8_impuestos_921_minoritarios_resultados\n",
      "Topics details for company Acerinox saved to disk. File 'results/topics/topics_details_lowsim_Acerinox_es.xlsx'\n",
      "[ 1/30]\t** Sentences and Embeddings Creation for Company 'ACS' **\n",
      "** Extracting topics on low similarity PR for Company 'ACS' **\n",
      "\t - Language : english\n",
      "\tExtracting 64 PR with low similarity...\n",
      "[S1-s.] \t Tonekize sentences\n",
      "[S1-e.] \t Sentences tonenized saved to disk. Total nr. sentences = 1961.\n",
      "[S2-s.] \t Starting with embeddings creation.\n"
     ]
    },
    {
     "data": {
      "application/vnd.jupyter.widget-view+json": {
       "model_id": "cd742d6ed6444fddb64d06334609f3a6",
       "version_major": 2,
       "version_minor": 0
      },
      "text/plain": [
       "Batches:   0%|          | 0/62 [00:00<?, ?it/s]"
      ]
     },
     "metadata": {},
     "output_type": "display_data"
    },
    {
     "name": "stdout",
     "output_type": "stream",
     "text": [
      "[S2-e.] \t Embeddings file data/embeddings/ACS_lowsim_en.pkl saved to disk.\n",
      "[S2.] \t Embeddings imported from {filename}. Starting topic modeling...\n"
     ]
    },
    {
     "name": "stderr",
     "output_type": "stream",
     "text": [
      "2023-12-16 15:15:33,022 - BERTopic - Reduced dimensionality\n",
      "2023-12-16 15:15:33,055 - BERTopic - Clustered reduced embeddings\n",
      "2023-12-16 15:15:40,087 - BERTopic - Reduced number of topics from 47 to 10\n"
     ]
    },
    {
     "name": "stdout",
     "output_type": "stream",
     "text": [
      "[S2.] \t Topics Modeled\n",
      "   Topic  Count                                            Name\n",
      "0     -1    319                   -1_profit_capital_cash_shares\n",
      "1      0    689                  0_profit_ebitda_euro_accounted\n",
      "2      1    469         1_cleaning_board_shareholders_corporate\n",
      "3      2    188         2_states_highway_australia_construction\n",
      "4      3     90                      3_debt_bank_evolution_year\n",
      "5      4     70               4_plant_capacity_transmission_epc\n",
      "6      5     61  5_pacific_diversification_geographical_africa1\n",
      "7      6     29               6_stake_shares_dividend_dividends\n",
      "8      7     24                           7_oficina_consultas__\n",
      "9      8     22                  8_spanish_rebound_growth_boost\n",
      "Topics details for company ACS saved to disk. File 'results/topics/topics_details_lowsim_ACS_en.xlsx'\n",
      "\t - Language : spanish\n",
      "\tExtracting 65 PR with low similarity...\n",
      "[S1-s.] \t Tonekize sentences\n",
      "[S1-e.] \t Sentences tonenized saved to disk. Total nr. sentences = 1886.\n",
      "[S2-s.] \t Starting with embeddings creation.\n"
     ]
    },
    {
     "data": {
      "application/vnd.jupyter.widget-view+json": {
       "model_id": "f6e08da647b540a9b4425779f9722a58",
       "version_major": 2,
       "version_minor": 0
      },
      "text/plain": [
       "Batches:   0%|          | 0/59 [00:00<?, ?it/s]"
      ]
     },
     "metadata": {},
     "output_type": "display_data"
    },
    {
     "name": "stdout",
     "output_type": "stream",
     "text": [
      "[S2-e.] \t Embeddings file data/embeddings/ACS_lowsim_es.pkl saved to disk.\n",
      "[S2.] \t Embeddings imported from {filename}. Starting topic modeling...\n"
     ]
    },
    {
     "name": "stderr",
     "output_type": "stream",
     "text": [
      "2023-12-16 15:15:58,450 - BERTopic - Reduced dimensionality\n",
      "2023-12-16 15:15:58,478 - BERTopic - Clustered reduced embeddings\n",
      "2023-12-16 15:16:05,724 - BERTopic - Reduced number of topics from 46 to 10\n"
     ]
    },
    {
     "name": "stdout",
     "output_type": "stream",
     "text": [
      "[S2.] \t Topics Modeled\n",
      "   Topic  Count                                               Name\n",
      "0     -1    412      -1_estados_financiación_capital_participación\n",
      "1      0    696  0_accionistas_sociedad_información_administración\n",
      "2      1    247               1_total_internacionales_meses_ventas\n",
      "3      2    149          2_australia_autopista_proyecto_ampliación\n",
      "4      3    126                   3_américa_limpieza_europa_áfrica\n",
      "5      4    102          4_energía_transmisión_renovable_eléctrica\n",
      "6      5     76        5_deuda_endeudamiento_financiera_dividendos\n",
      "7      6     35                6_canadá_montreal_vancouver_ontario\n",
      "8      7     30           7_corporación_magnitudes_beneficio_ebit1\n",
      "9      8     13              8_dólar_depreciación_australiano_peso\n",
      "Topics details for company ACS saved to disk. File 'results/topics/topics_details_lowsim_ACS_es.xlsx'\n",
      "[ 2/30]\t** Sentences and Embeddings Creation for Company 'Bancosantander' **\n",
      "** Extracting topics on low similarity PR for Company 'Bancosantander' **\n",
      "\t - Language : english\n",
      "\tExtracting 140 PR with low similarity...\n",
      "[S1-s.] \t Tonekize sentences\n",
      "[S1-e.] \t Sentences tonenized saved to disk. Total nr. sentences = 2846.\n",
      "[S2-s.] \t Starting with embeddings creation.\n"
     ]
    },
    {
     "data": {
      "application/vnd.jupyter.widget-view+json": {
       "model_id": "854efddeed0b45b8a54f10b3acc23f0f",
       "version_major": 2,
       "version_minor": 0
      },
      "text/plain": [
       "Batches:   0%|          | 0/89 [00:00<?, ?it/s]"
      ]
     },
     "metadata": {},
     "output_type": "display_data"
    },
    {
     "name": "stdout",
     "output_type": "stream",
     "text": [
      "[S2-e.] \t Embeddings file data/embeddings/Bancosantander_lowsim_en.pkl saved to disk.\n",
      "[S2.] \t Embeddings imported from {filename}. Starting topic modeling...\n"
     ]
    },
    {
     "name": "stderr",
     "output_type": "stream",
     "text": [
      "2023-12-16 15:16:27,598 - BERTopic - Reduced dimensionality\n",
      "2023-12-16 15:16:27,646 - BERTopic - Clustered reduced embeddings\n",
      "2023-12-16 15:16:36,871 - BERTopic - Reduced number of topics from 65 to 10\n"
     ]
    },
    {
     "name": "stdout",
     "output_type": "stream",
     "text": [
      "[S2.] \t Topics Modeled\n",
      "   Topic  Count                                            Name\n",
      "0     -1   1018           -1_financial_support_digital_services\n",
      "1      0   1248              0_million_universities_polska_2020\n",
      "2      1    158  1_disabilities_students_accessibility_language\n",
      "3      2    100               2_ibiznes24_mail_channels_prasowe\n",
      "4      3     99               3_carbon_emissions_renewable_wind\n",
      "5      4     77                      4_tamaño_jpeg_mb_packaging\n",
      "6      5     63          5_deforestation_amazon_brazil_ranchers\n",
      "7      6     36                  6_café_mural_espresso_brooklyn\n",
      "8      7     33     7_coronavirus_vaccination_vaccines_outbreak\n",
      "9      8     14           8_tablet_identity_biometric_signature\n",
      "Topics details for company Bancosantander saved to disk. File 'results/topics/topics_details_lowsim_Bancosantander_en.xlsx'\n",
      "\t - Language : spanish\n",
      "\tExtracting 221 PR with low similarity...\n",
      "[S1-s.] \t Tonekize sentences\n",
      "[S1-e.] \t Sentences tonenized saved to disk. Total nr. sentences = 3942.\n",
      "[S2-s.] \t Starting with embeddings creation.\n"
     ]
    },
    {
     "data": {
      "application/vnd.jupyter.widget-view+json": {
       "model_id": "a9d06f2ec0104444a933ef66afb529c0",
       "version_major": 2,
       "version_minor": 0
      },
      "text/plain": [
       "Batches:   0%|          | 0/124 [00:00<?, ?it/s]"
      ]
     },
     "metadata": {},
     "output_type": "display_data"
    },
    {
     "name": "stdout",
     "output_type": "stream",
     "text": [
      "[S2-e.] \t Embeddings file data/embeddings/Bancosantander_lowsim_es.pkl saved to disk.\n",
      "[S2.] \t Embeddings imported from {filename}. Starting topic modeling...\n"
     ]
    },
    {
     "name": "stderr",
     "output_type": "stream",
     "text": [
      "2023-12-16 15:17:09,220 - BERTopic - Reduced dimensionality\n",
      "2023-12-16 15:17:09,295 - BERTopic - Clustered reduced embeddings\n",
      "2023-12-16 15:17:22,314 - BERTopic - Reduced number of topics from 95 to 10\n"
     ]
    },
    {
     "name": "stdout",
     "output_type": "stream",
     "text": [
      "[S2.] \t Topics Modeled\n",
      "   Topic  Count                                             Name\n",
      "0     -1   1218          -1_empresas_proyectos_tamaño_sostenible\n",
      "1      0   2265                 0_banco_clientes_madrid_empresas\n",
      "2      1    147             1_violencia_mujeres_integra_víctimas\n",
      "3      2     89  2_coronavirus_pandemia_diagnóstico_enfermedades\n",
      "4      3     58            3_hidrógeno_carbono_emisiones_dióxido\n",
      "5      4     57                4_hipoteca_tae_hipotecas_préstamo\n",
      "6      5     54         5_ciberseguridad_cyber_seguridad_podcast\n",
      "7      6     22                      6_chile_2016_polonia_brasil\n",
      "8      7     16           7_exterior_consolidar_exportar_exporta\n",
      "9      8     16          8_oficinas_sector_reconversión_plantean\n",
      "Topics details for company Bancosantander saved to disk. File 'results/topics/topics_details_lowsim_Bancosantander_es.xlsx'\n",
      "[ 3/30]\t** Sentences and Embeddings Creation for Company 'Bankinter' **\n",
      "** Extracting topics on low similarity PR for Company 'Bankinter' **\n",
      "\t - Language : english\n",
      "\tExtracting 123 PR with low similarity...\n",
      "[S1-s.] \t Tonekize sentences\n",
      "[S1-e.] \t Sentences tonenized saved to disk. Total nr. sentences = 2296.\n",
      "[S2-s.] \t Starting with embeddings creation.\n"
     ]
    },
    {
     "data": {
      "application/vnd.jupyter.widget-view+json": {
       "model_id": "b7a1a8235f6f4439a696f291978a3479",
       "version_major": 2,
       "version_minor": 0
      },
      "text/plain": [
       "Batches:   0%|          | 0/72 [00:00<?, ?it/s]"
      ]
     },
     "metadata": {},
     "output_type": "display_data"
    },
    {
     "name": "stdout",
     "output_type": "stream",
     "text": [
      "[S2-e.] \t Embeddings file data/embeddings/Bankinter_lowsim_en.pkl saved to disk.\n",
      "[S2.] \t Embeddings imported from {filename}. Starting topic modeling...\n"
     ]
    },
    {
     "name": "stderr",
     "output_type": "stream",
     "text": [
      "2023-12-16 15:17:39,227 - BERTopic - Reduced dimensionality\n",
      "2023-12-16 15:17:39,266 - BERTopic - Clustered reduced embeddings\n",
      "2023-12-16 15:17:46,726 - BERTopic - Reduced number of topics from 50 to 10\n"
     ]
    },
    {
     "name": "stdout",
     "output_type": "stream",
     "text": [
      "[S2.] \t Topics Modeled\n",
      "   Topic  Count                                               Name\n",
      "0     -1    804              -1_account_insurance_investment_euros\n",
      "1      0   1025                      0_euros_ratio_billion_banking\n",
      "2      1    137           1_energy_buildings_efficiency_renovation\n",
      "3      2    116  2_sustainability_environmental_carbon_sustainable\n",
      "4      3     55  3_accessibility_disabilities_students_voluntee...\n",
      "5      4     47                4_fixed_variable_mortgage_mortgages\n",
      "6      5     39                5_shock_coronavirus_measures_crisis\n",
      "7      6     33             6_ecosystem_observatory_silicon_valley\n",
      "8      7     30              7_digital_app_digitalisation_browsing\n",
      "9      8     10                         8_apple_iphone_ipad_sensor\n",
      "Topics details for company Bankinter saved to disk. File 'results/topics/topics_details_lowsim_Bankinter_en.xlsx'\n",
      "\t - Language : spanish\n",
      "\tExtracting 123 PR with low similarity...\n",
      "[S1-s.] \t Tonekize sentences\n",
      "[S1-e.] \t Sentences tonenized saved to disk. Total nr. sentences = 2144.\n",
      "[S2-s.] \t Starting with embeddings creation.\n"
     ]
    },
    {
     "data": {
      "application/vnd.jupyter.widget-view+json": {
       "model_id": "2bcb2af213f94e5199e5879eadf31771",
       "version_major": 2,
       "version_minor": 0
      },
      "text/plain": [
       "Batches:   0%|          | 0/67 [00:00<?, ?it/s]"
      ]
     },
     "metadata": {},
     "output_type": "display_data"
    },
    {
     "name": "stdout",
     "output_type": "stream",
     "text": [
      "[S2-e.] \t Embeddings file data/embeddings/Bankinter_lowsim_es.pkl saved to disk.\n",
      "[S2.] \t Embeddings imported from {filename}. Starting topic modeling...\n"
     ]
    },
    {
     "name": "stderr",
     "output_type": "stream",
     "text": [
      "2023-12-16 15:18:03,717 - BERTopic - Reduced dimensionality\n",
      "2023-12-16 15:18:03,753 - BERTopic - Clustered reduced embeddings\n",
      "2023-12-16 15:18:10,908 - BERTopic - Reduced number of topics from 45 to 10\n"
     ]
    },
    {
     "name": "stdout",
     "output_type": "stream",
     "text": [
      "[S2.] \t Topics Modeled\n",
      "   Topic  Count                                              Name\n",
      "0     -1    765                    -1_euros_millones_banco_fondos\n",
      "1      0    523                0_millones_crecimiento_euros_ratio\n",
      "2      1    358             1_hipoteca_préstamos_crédito_tarjetas\n",
      "3      2    166     2_sostenibilidad_energética_ambiental_carbono\n",
      "4      3    152            3_liberty_vehículos_españoles_portugal\n",
      "5      4     79          4_digitalización_digitales_móvil_digital\n",
      "6      5     59  5_discapacidad_fundación_accesibilidad_formación\n",
      "7      6     16             6_hoteles_hoteleros_bursátil_hotelero\n",
      "8      7     13                         7_apple_iphone_ipad_watch\n",
      "9      8     13         8_coronavirus_batería_familiares_epidemia\n",
      "Topics details for company Bankinter saved to disk. File 'results/topics/topics_details_lowsim_Bankinter_es.xlsx'\n",
      "[ 4/30]\t** Sentences and Embeddings Creation for Company 'BBVA' **\n",
      "** Extracting topics on low similarity PR for Company 'BBVA' **\n",
      "\t - Language : english\n",
      "\tExtracting 48 PR with low similarity...\n",
      "[S1-s.] \t Tonekize sentences\n",
      "[S1-e.] \t Sentences tonenized saved to disk. Total nr. sentences = 3813.\n",
      "[S2-s.] \t Starting with embeddings creation.\n"
     ]
    },
    {
     "data": {
      "application/vnd.jupyter.widget-view+json": {
       "model_id": "cd47aafe8ea248f69b7e21cb5a9c42eb",
       "version_major": 2,
       "version_minor": 0
      },
      "text/plain": [
       "Batches:   0%|          | 0/120 [00:00<?, ?it/s]"
      ]
     },
     "metadata": {},
     "output_type": "display_data"
    },
    {
     "name": "stdout",
     "output_type": "stream",
     "text": [
      "[S2-e.] \t Embeddings file data/embeddings/BBVA_lowsim_en.pkl saved to disk.\n",
      "[S2.] \t Embeddings imported from {filename}. Starting topic modeling...\n"
     ]
    },
    {
     "name": "stderr",
     "output_type": "stream",
     "text": [
      "2023-12-16 15:18:45,459 - BERTopic - Reduced dimensionality\n",
      "2023-12-16 15:18:45,521 - BERTopic - Clustered reduced embeddings\n",
      "2023-12-16 15:18:58,618 - BERTopic - Reduced number of topics from 98 to 10\n"
     ]
    },
    {
     "name": "stdout",
     "output_type": "stream",
     "text": [
      "[S2.] \t Topics Modeled\n",
      "   Topic  Count                                      Name\n",
      "0     -1    735                 -1_loans_sector_23_income\n",
      "1      0   2569          0_income_financial_million_euros\n",
      "2      1    205  1_sustainable_sustainability_carbon_2025\n",
      "3      2    119       2_currencies_bitcoin_crypto_virtual\n",
      "4      3     85          3_argentina_brazil_colombia_peru\n",
      "5      4     42       4_unicorns_unicorn_bubble_companies\n",
      "6      5     19  5_connected_internet_automation_remotely\n",
      "7      6     14                 6_mexico_hiking_fed_hikes\n",
      "8      7     14            7_drones_drone_aircraft_parrot\n",
      "9      8     11        8_blood_tests_theranos_reliability\n",
      "Topics details for company BBVA saved to disk. File 'results/topics/topics_details_lowsim_BBVA_en.xlsx'\n",
      "\t - Language : spanish\n",
      "\tExtracting 105 PR with low similarity...\n",
      "[S1-s.] \t Tonekize sentences\n",
      "[S1-e.] \t Sentences tonenized saved to disk. Total nr. sentences = 10436.\n",
      "[S2-s.] \t Starting with embeddings creation.\n"
     ]
    },
    {
     "data": {
      "application/vnd.jupyter.widget-view+json": {
       "model_id": "d03652fc5af0433a95d6089ae7dc2b92",
       "version_major": 2,
       "version_minor": 0
      },
      "text/plain": [
       "Batches:   0%|          | 0/327 [00:00<?, ?it/s]"
      ]
     },
     "metadata": {},
     "output_type": "display_data"
    },
    {
     "name": "stdout",
     "output_type": "stream",
     "text": [
      "[S2-e.] \t Embeddings file data/embeddings/BBVA_lowsim_es.pkl saved to disk.\n",
      "[S2.] \t Embeddings imported from {filename}. Starting topic modeling...\n"
     ]
    },
    {
     "name": "stderr",
     "output_type": "stream",
     "text": [
      "2023-12-16 15:20:01,573 - BERTopic - Reduced dimensionality\n",
      "2023-12-16 15:20:01,763 - BERTopic - Clustered reduced embeddings\n",
      "2023-12-16 15:20:39,199 - BERTopic - Reduced number of topics from 200 to 10\n"
     ]
    },
    {
     "name": "stdout",
     "output_type": "stream",
     "text": [
      "[S2.] \t Topics Modeled\n",
      "   Topic  Count                                          Name\n",
      "0     -1   3341                 -1_méxico_research_2020_datos\n",
      "1      0   5912                             0_81_76_70_méxico\n",
      "2      1    755        1_vivienda_hipotecario_ahorro_bancario\n",
      "3      2    134             2_internet_usuarios_móvil_móviles\n",
      "4      3    105     3_edificio_edificios_plaza_comunicaciones\n",
      "5      4     52    4_manufacturas_metálicos_plástico_textiles\n",
      "6      5     51   5_innovación_emprendedor_patentes_invención\n",
      "7      6     41           6_virus_contagio_pandemia_contagios\n",
      "8      7     29  7_repatriados_migrantes_mexicans_repatriated\n",
      "9      8     16                                      8_int___\n",
      "Topics details for company BBVA saved to disk. File 'results/topics/topics_details_lowsim_BBVA_es.xlsx'\n",
      "[ 5/30]\t** Sentences and Embeddings Creation for Company 'Caixa' **\n",
      "** Extracting topics on low similarity PR for Company 'Caixa' **\n",
      "\t - Language : english\n",
      "\tExtracting 129 PR with low similarity...\n",
      "[S1-s.] \t Tonekize sentences\n",
      "[S1-e.] \t Sentences tonenized saved to disk. Total nr. sentences = 21117.\n",
      "[S2-s.] \t Starting with embeddings creation.\n"
     ]
    },
    {
     "data": {
      "application/vnd.jupyter.widget-view+json": {
       "model_id": "4ed6645fb3214d828a665418e63806e6",
       "version_major": 2,
       "version_minor": 0
      },
      "text/plain": [
       "Batches:   0%|          | 0/660 [00:00<?, ?it/s]"
      ]
     },
     "metadata": {},
     "output_type": "display_data"
    },
    {
     "name": "stdout",
     "output_type": "stream",
     "text": [
      "[S2-e.] \t Embeddings file data/embeddings/Caixa_lowsim_en.pkl saved to disk.\n",
      "[S2.] \t Embeddings imported from {filename}. Starting topic modeling...\n"
     ]
    },
    {
     "name": "stderr",
     "output_type": "stream",
     "text": [
      "2023-12-16 15:22:20,952 - BERTopic - Reduced dimensionality\n"
     ]
    },
    {
     "name": "stdout",
     "output_type": "stream",
     "text": [
      "huggingface/tokenizers: The current process just got forked, after parallelism has already been used. Disabling parallelism to avoid deadlocks...\n",
      "To disable this warning, you can either:\n",
      "\t- Avoid using `tokenizers` before the fork if possible\n",
      "\t- Explicitly set the environment variable TOKENIZERS_PARALLELISM=(true | false)\n",
      "huggingface/tokenizers: The current process just got forked, after parallelism has already been used. Disabling parallelism to avoid deadlocks...\n",
      "To disable this warning, you can either:\n",
      "\t- Avoid using `tokenizers` before the fork if possible\n",
      "\t- Explicitly set the environment variable TOKENIZERS_PARALLELISM=(true | false)\n",
      "huggingface/tokenizers: The current process just got forked, after parallelism has already been used. Disabling parallelism to avoid deadlocks...\n",
      "To disable this warning, you can either:\n",
      "\t- Avoid using `tokenizers` before the fork if possible\n",
      "\t- Explicitly set the environment variable TOKENIZERS_PARALLELISM=(true | false)\n",
      "huggingface/tokenizers: The current process just got forked, after parallelism has already been used. Disabling parallelism to avoid deadlocks...\n",
      "To disable this warning, you can either:\n",
      "\t- Avoid using `tokenizers` before the fork if possible\n",
      "\t- Explicitly set the environment variable TOKENIZERS_PARALLELISM=(true | false)\n",
      "huggingface/tokenizers: The current process just got forked, after parallelism has already been used. Disabling parallelism to avoid deadlocks...\n",
      "To disable this warning, you can either:\n",
      "\t- Avoid using `tokenizers` before the fork if possible\n",
      "\t- Explicitly set the environment variable TOKENIZERS_PARALLELISM=(true | false)\n"
     ]
    },
    {
     "name": "stderr",
     "output_type": "stream",
     "text": [
      "2023-12-16 15:22:22,424 - BERTopic - Clustered reduced embeddings\n",
      "2023-12-16 15:23:57,550 - BERTopic - Reduced number of topics from 857 to 10\n"
     ]
    },
    {
     "name": "stdout",
     "output_type": "stream",
     "text": [
      "[S2.] \t Topics Modeled\n",
      "   Topic  Count                                Name\n",
      "0     -1   1495     -1_bank_capital_climate_banking\n",
      "1      0  19313  0_bank_banking_customers_financial\n",
      "2      1    144   1_cardiovascular_cancer_york_jobs\n",
      "3      2     43      2_elderly_aging_ageing_dignity\n",
      "4      3     33    3_moratorium_apply_mortgage_loan\n",
      "5      4     26   4_turkish_ukrainian_turkey_charge\n",
      "6      5     23    5_30am_30pm_timetables_schedules\n",
      "7      6     17               6_open_branches_bank_\n",
      "8      7     12                         7_driven___\n",
      "9      8     11                      8_coupon_set__\n",
      "Topics details for company Caixa saved to disk. File 'results/topics/topics_details_lowsim_Caixa_en.xlsx'\n",
      "\t - Language : spanish\n",
      "\tExtracting 587 PR with low similarity...\n",
      "[S1-s.] \t Tonekize sentences\n",
      "[S1-e.] \t Sentences tonenized saved to disk. Total nr. sentences = 80133.\n",
      "[S2-s.] \t Starting with embeddings creation.\n"
     ]
    },
    {
     "data": {
      "application/vnd.jupyter.widget-view+json": {
       "model_id": "9e6af70ea9a943edab717dfe3df46575",
       "version_major": 2,
       "version_minor": 0
      },
      "text/plain": [
       "Batches:   0%|          | 0/2505 [00:00<?, ?it/s]"
      ]
     },
     "metadata": {},
     "output_type": "display_data"
    },
    {
     "name": "stdout",
     "output_type": "stream",
     "text": [
      "[S2-e.] \t Embeddings file data/embeddings/Caixa_lowsim_es.pkl saved to disk.\n",
      "[S2.] \t Embeddings imported from {filename}. Starting topic modeling...\n"
     ]
    },
    {
     "name": "stderr",
     "output_type": "stream",
     "text": [
      "2023-12-16 15:38:12,432 - BERTopic - Reduced dimensionality\n"
     ]
    },
    {
     "name": "stdout",
     "output_type": "stream",
     "text": [
      "huggingface/tokenizers: The current process just got forked, after parallelism has already been used. Disabling parallelism to avoid deadlocks...\n",
      "To disable this warning, you can either:\n",
      "\t- Avoid using `tokenizers` before the fork if possible\n",
      "\t- Explicitly set the environment variable TOKENIZERS_PARALLELISM=(true | false)\n",
      "huggingface/tokenizers: The current process just got forked, after parallelism has already been used. Disabling parallelism to avoid deadlocks...\n",
      "To disable this warning, you can either:\n",
      "\t- Avoid using `tokenizers` before the fork if possible\n",
      "\t- Explicitly set the environment variable TOKENIZERS_PARALLELISM=(true | false)\n",
      "huggingface/tokenizers: The current process just got forked, after parallelism has already been used. Disabling parallelism to avoid deadlocks...\n",
      "To disable this warning, you can either:\n",
      "\t- Avoid using `tokenizers` before the fork if possible\n",
      "\t- Explicitly set the environment variable TOKENIZERS_PARALLELISM=(true | false)\n",
      "huggingface/tokenizers: The current process just got forked, after parallelism has already been used. Disabling parallelism to avoid deadlocks...\n",
      "To disable this warning, you can either:\n",
      "\t- Avoid using `tokenizers` before the fork if possible\n",
      "\t- Explicitly set the environment variable TOKENIZERS_PARALLELISM=(true | false)\n"
     ]
    },
    {
     "name": "stderr",
     "output_type": "stream",
     "text": [
      "2023-12-16 15:38:16,492 - BERTopic - Clustered reduced embeddings\n",
      "2023-12-16 15:45:41,563 - BERTopic - Reduced number of topics from 2828 to 10\n"
     ]
    },
    {
     "name": "stdout",
     "output_type": "stream",
     "text": [
      "[S2.] \t Topics Modeled\n",
      "   Topic  Count                                          Name\n",
      "0     -1   3877         -1_director_caixabank_sector_clientes\n",
      "1      0  75805          0_caixabank_clientes_empresas_sector\n",
      "2      1    220  1_biotech_suanfarma_biotecnología_organismos\n",
      "3      2     60           2_patriotismo_situada_celebró_santa\n",
      "4      3     51     3_filantrópicos_euromoney_revista_impacto\n",
      "5      4     49                                      4_30h___\n",
      "6      5     19                  5_rumbao_pérez_300_empleados\n",
      "7      6     18                6_partner_socio_fútbol_oficial\n",
      "8      7     18                  7_base_principal_banco_mayor\n",
      "9      8     16      8_escuelas_educación_cataluña_financiera\n",
      "Topics details for company Caixa saved to disk. File 'results/topics/topics_details_lowsim_Caixa_es.xlsx'\n",
      "[ 6/30]\t** Sentences and Embeddings Creation for Company 'Colonial' **\n",
      "** Extracting topics on low similarity PR for Company 'Colonial' **\n",
      "\t - Language : english\n",
      "\tExtracting 7 PR with low similarity...\n",
      "[S1-s.] \t Tonekize sentences\n",
      "[S1-e.] \t Sentences tonenized saved to disk. Total nr. sentences = 283.\n",
      "[S2-s.] \t Starting with embeddings creation.\n"
     ]
    },
    {
     "data": {
      "application/vnd.jupyter.widget-view+json": {
       "model_id": "7a154f6fd8ea45868d979b32d0bc8a8e",
       "version_major": 2,
       "version_minor": 0
      },
      "text/plain": [
       "Batches:   0%|          | 0/9 [00:00<?, ?it/s]"
      ]
     },
     "metadata": {},
     "output_type": "display_data"
    },
    {
     "name": "stdout",
     "output_type": "stream",
     "text": [
      "[S2-e.] \t Embeddings file data/embeddings/Colonial_lowsim_en.pkl saved to disk.\n",
      "[S2.] \t Embeddings imported from {filename}. Starting topic modeling...\n"
     ]
    },
    {
     "name": "stderr",
     "output_type": "stream",
     "text": [
      "2023-12-16 15:45:47,987 - BERTopic - Reduced dimensionality\n",
      "2023-12-16 15:45:47,993 - BERTopic - Clustered reduced embeddings\n",
      "2023-12-16 15:45:48,625 - BERTopic - Reduced number of topics from 3 to 3\n"
     ]
    },
    {
     "name": "stdout",
     "output_type": "stream",
     "text": [
      "[S2.] \t Topics Modeled\n",
      "   Topic  Count                              Name\n",
      "0      0     19        0_40732015_26104_246976_v4\n",
      "1      1     44  1_deed_covenant_issuer_agreement\n",
      "2      2    220  2_portfolio_assets_madrid_market\n",
      "Topics details for company Colonial saved to disk. File 'results/topics/topics_details_lowsim_Colonial_en.xlsx'\n",
      "\t - Language : spanish\n",
      "\tExtracting 7 PR with low similarity...\n",
      "[S1-s.] \t Tonekize sentences\n",
      "[S1-e.] \t Sentences tonenized saved to disk. Total nr. sentences = 264.\n",
      "[S2-s.] \t Starting with embeddings creation.\n"
     ]
    },
    {
     "data": {
      "application/vnd.jupyter.widget-view+json": {
       "model_id": "024dc33069c34ae188d7fdc88b24eed1",
       "version_major": 2,
       "version_minor": 0
      },
      "text/plain": [
       "Batches:   0%|          | 0/9 [00:00<?, ?it/s]"
      ]
     },
     "metadata": {},
     "output_type": "display_data"
    },
    {
     "name": "stdout",
     "output_type": "stream",
     "text": [
      "[S2-e.] \t Embeddings file data/embeddings/Colonial_lowsim_es.pkl saved to disk.\n",
      "[S2.] \t Embeddings imported from {filename}. Starting topic modeling...\n"
     ]
    },
    {
     "name": "stderr",
     "output_type": "stream",
     "text": [
      "2023-12-16 15:45:54,344 - BERTopic - Reduced dimensionality\n",
      "2023-12-16 15:45:54,349 - BERTopic - Clustered reduced embeddings\n",
      "2023-12-16 15:45:55,595 - BERTopic - Reduced number of topics from 8 to 8\n"
     ]
    },
    {
     "name": "stdout",
     "output_type": "stream",
     "text": [
      "[S2.] \t Topics Modeled\n",
      "   Topic  Count                                     Name\n",
      "0     -1    115              -1_clientes_calidad_www_cbd\n",
      "1      0     12  0_carbono_emisiones_sustainability_2050\n",
      "2      1     49         1_barcelona_parís_madrid_mercado\n",
      "3      2     21    2_iniciativas_ayudas_social_servicios\n",
      "4      3     16        3_bonos_verdes_green_financiación\n",
      "5      4     19  4_sfl_accionistas_participación_capital\n",
      "6      5     17           5_trimestre_2020_periodo_hotel\n",
      "7      6     15                6_precios_erv_20_alquiler\n",
      "Topics details for company Colonial saved to disk. File 'results/topics/topics_details_lowsim_Colonial_es.xlsx'\n",
      "[ 7/30]\t** Sentences and Embeddings Creation for Company 'Enagas' **\n",
      "** Extracting topics on low similarity PR for Company 'Enagas' **\n",
      "\t - Language : english\n",
      "\tExtracting 71 PR with low similarity...\n",
      "[S1-s.] \t Tonekize sentences\n",
      "[S1-e.] \t Sentences tonenized saved to disk. Total nr. sentences = 1909.\n",
      "[S2-s.] \t Starting with embeddings creation.\n"
     ]
    },
    {
     "data": {
      "application/vnd.jupyter.widget-view+json": {
       "model_id": "28fe50682cdf438e9e5cbaec5e9da3de",
       "version_major": 2,
       "version_minor": 0
      },
      "text/plain": [
       "Batches:   0%|          | 0/60 [00:00<?, ?it/s]"
      ]
     },
     "metadata": {},
     "output_type": "display_data"
    },
    {
     "name": "stdout",
     "output_type": "stream",
     "text": [
      "[S2-e.] \t Embeddings file data/embeddings/Enagas_lowsim_en.pkl saved to disk.\n",
      "[S2.] \t Embeddings imported from {filename}. Starting topic modeling...\n"
     ]
    },
    {
     "name": "stderr",
     "output_type": "stream",
     "text": [
      "2023-12-16 15:46:11,846 - BERTopic - Reduced dimensionality\n",
      "2023-12-16 15:46:11,875 - BERTopic - Clustered reduced embeddings\n",
      "2023-12-16 15:46:19,740 - BERTopic - Reduced number of topics from 44 to 10\n"
     ]
    },
    {
     "name": "stdout",
     "output_type": "stream",
     "text": [
      "[S2.] \t Topics Modeled\n",
      "   Topic  Count                                               Name\n",
      "0     -1    568  -1_transition_transmission_network_infrastructure\n",
      "1      0    839                 0_hydrogen_energy_renewable_supply\n",
      "2      1    149                      1_demand_gwh_natural_february\n",
      "3      2    130                         2_euros_dividend_debt_line\n",
      "4      3     90          3_directors_director_executive_innovation\n",
      "5      4     53        4_pipelines_pipeline_regasification_germany\n",
      "6      5     26                 5_reforestation_co₂_hectares_trees\n",
      "7      6     24           6_biogas_biomethane_wastewater_renewable\n",
      "8      7     17          7_photovoltaic_solar_solaria_construction\n",
      "9      8     13       8_acciona_regenerative_economy_institutional\n",
      "Topics details for company Enagas saved to disk. File 'results/topics/topics_details_lowsim_Enagas_en.xlsx'\n",
      "\t - Language : spanish\n",
      "\tExtracting 78 PR with low similarity...\n",
      "[S1-s.] \t Tonekize sentences\n",
      "[S1-e.] \t Sentences tonenized saved to disk. Total nr. sentences = 1626.\n",
      "[S2-s.] \t Starting with embeddings creation.\n"
     ]
    },
    {
     "data": {
      "application/vnd.jupyter.widget-view+json": {
       "model_id": "19ce0692f34d47f484744a5682dba2f5",
       "version_major": 2,
       "version_minor": 0
      },
      "text/plain": [
       "Batches:   0%|          | 0/51 [00:00<?, ?it/s]"
      ]
     },
     "metadata": {},
     "output_type": "display_data"
    },
    {
     "name": "stdout",
     "output_type": "stream",
     "text": [
      "[S2-e.] \t Embeddings file data/embeddings/Enagas_lowsim_es.pkl saved to disk.\n",
      "[S2.] \t Embeddings imported from {filename}. Starting topic modeling...\n"
     ]
    },
    {
     "name": "stderr",
     "output_type": "stream",
     "text": [
      "2023-12-16 15:46:33,988 - BERTopic - Reduced dimensionality\n",
      "2023-12-16 15:46:34,013 - BERTopic - Clustered reduced embeddings\n",
      "2023-12-16 15:46:34,986 - BERTopic - Reduced number of topics from 6 to 6\n"
     ]
    },
    {
     "name": "stdout",
     "output_type": "stream",
     "text": [
      "[S2.] \t Topics Modeled\n",
      "   Topic  Count                                           Name\n",
      "0     -1     20          -1_electrónico_correo_bolsa_plinovodi\n",
      "1      0   1521            0_gas_hidrógeno_millones_energética\n",
      "2      1     21           1_institucionales_inversores_tel_985\n",
      "3      2     10      2_com_información_fundacionrepsol_atrevia\n",
      "4      3     26                3_tel_electrónico_madrid_dircom\n",
      "5      4     28  4_relaciones_institucionales_tel_comunicación\n",
      "Topics details for company Enagas saved to disk. File 'results/topics/topics_details_lowsim_Enagas_es.xlsx'\n",
      "[ 8/30]\t** Sentences and Embeddings Creation for Company 'Endesa' **\n",
      "** Extracting topics on low similarity PR for Company 'Endesa' **\n",
      "\t - Language : english\n",
      "\tExtracting 30 PR with low similarity...\n",
      "[S1-s.] \t Tonekize sentences\n",
      "[S1-e.] \t Sentences tonenized saved to disk. Total nr. sentences = 805.\n",
      "[S2-s.] \t Starting with embeddings creation.\n"
     ]
    },
    {
     "data": {
      "application/vnd.jupyter.widget-view+json": {
       "model_id": "487efaa72ae448fe90d92d44c7c2bb3e",
       "version_major": 2,
       "version_minor": 0
      },
      "text/plain": [
       "Batches:   0%|          | 0/26 [00:00<?, ?it/s]"
      ]
     },
     "metadata": {},
     "output_type": "display_data"
    },
    {
     "name": "stdout",
     "output_type": "stream",
     "text": [
      "[S2-e.] \t Embeddings file data/embeddings/Endesa_lowsim_en.pkl saved to disk.\n",
      "[S2.] \t Embeddings imported from {filename}. Starting topic modeling...\n"
     ]
    },
    {
     "name": "stderr",
     "output_type": "stream",
     "text": [
      "2023-12-16 15:46:43,886 - BERTopic - Reduced dimensionality\n",
      "2023-12-16 15:46:43,900 - BERTopic - Clustered reduced embeddings\n",
      "2023-12-16 15:46:47,964 - BERTopic - Reduced number of topics from 21 to 10\n"
     ]
    },
    {
     "name": "stdout",
     "output_type": "stream",
     "text": [
      "[S2.] \t Topics Modeled\n",
      "   Topic  Count                                          Name\n",
      "0     -1    113             -1_circular_prices_energy_voltage\n",
      "1      0    228  0_enel_electrification_electricity_renewable\n",
      "2      1    160      1_employees_workforce_marijuana_training\n",
      "3      2    100                 2_music_madrid_piano_concerts\n",
      "4      3     61    3_species_birds_electrocution_conservation\n",
      "5      4     57                  4_cathedral_2021_santa_mayor\n",
      "6      5     25           5_hotels_charging_mobility_chargers\n",
      "7      6     23                     6_wind_laser_beam_horizon\n",
      "8      7     19               7_eruption_lava_island_volcanic\n",
      "9      8     19        8_train_hydroelectric_transport_diesel\n",
      "Topics details for company Endesa saved to disk. File 'results/topics/topics_details_lowsim_Endesa_en.xlsx'\n",
      "\t - Language : spanish\n",
      "\tExtracting 29 PR with low similarity...\n",
      "[S1-s.] \t Tonekize sentences\n",
      "[S1-e.] \t Sentences tonenized saved to disk. Total nr. sentences = 676.\n",
      "[S2-s.] \t Starting with embeddings creation.\n"
     ]
    },
    {
     "data": {
      "application/vnd.jupyter.widget-view+json": {
       "model_id": "f406b21571e943ff993917b0c5212407",
       "version_major": 2,
       "version_minor": 0
      },
      "text/plain": [
       "Batches:   0%|          | 0/22 [00:00<?, ?it/s]"
      ]
     },
     "metadata": {},
     "output_type": "display_data"
    },
    {
     "name": "stdout",
     "output_type": "stream",
     "text": [
      "[S2-e.] \t Embeddings file data/embeddings/Endesa_lowsim_es.pkl saved to disk.\n",
      "[S2.] \t Embeddings imported from {filename}. Starting topic modeling...\n"
     ]
    },
    {
     "name": "stderr",
     "output_type": "stream",
     "text": [
      "2023-12-16 15:46:55,555 - BERTopic - Reduced dimensionality\n",
      "2023-12-16 15:46:55,568 - BERTopic - Clustered reduced embeddings\n",
      "2023-12-16 15:46:59,469 - BERTopic - Reduced number of topics from 21 to 10\n"
     ]
    },
    {
     "name": "stdout",
     "output_type": "stream",
     "text": [
      "[S2.] \t Topics Modeled\n",
      "   Topic  Count                                        Name\n",
      "0     -1    115    -1_director_sostenible_financiera_futuro\n",
      "1      0    262  0_baloncesto_públicas_distribución_negocio\n",
      "2      1     79           1_senior_alumnos_profesionales_50\n",
      "3      2     74          2_energética_ahorro_emisiones_2040\n",
      "4      3     48        3_río_colisión_4metering_dispositivo\n",
      "5      4     31          4_hoteles_hotelera_hotelero_hotels\n",
      "6      5     21             5_movilidad_pagar_juicepass_app\n",
      "7      6     19    6_microalgas_producción_biotech_biorizon\n",
      "8      7     17  7_biodiversidad_conservación_fauna_natural\n",
      "9      8     10     8_premios_premio_elegidos_participantes\n",
      "Topics details for company Endesa saved to disk. File 'results/topics/topics_details_lowsim_Endesa_es.xlsx'\n",
      "[ 9/30]\t** Sentences and Embeddings Creation for Company 'Ferrovial' **\n",
      "** Extracting topics on low similarity PR for Company 'Ferrovial' **\n",
      "\t - Language : english\n",
      "\tExtracting 73 PR with low similarity...\n",
      "[S1-s.] \t Tonekize sentences\n",
      "[S1-e.] \t Sentences tonenized saved to disk. Total nr. sentences = 1669.\n",
      "[S2-s.] \t Starting with embeddings creation.\n"
     ]
    },
    {
     "data": {
      "application/vnd.jupyter.widget-view+json": {
       "model_id": "75ccc1fd740d4476a47cdc09e05036ff",
       "version_major": 2,
       "version_minor": 0
      },
      "text/plain": [
       "Batches:   0%|          | 0/53 [00:00<?, ?it/s]"
      ]
     },
     "metadata": {},
     "output_type": "display_data"
    },
    {
     "name": "stdout",
     "output_type": "stream",
     "text": [
      "[S2-e.] \t Embeddings file data/embeddings/Ferrovial_lowsim_en.pkl saved to disk.\n",
      "[S2.] \t Embeddings imported from {filename}. Starting topic modeling...\n"
     ]
    },
    {
     "name": "stderr",
     "output_type": "stream",
     "text": [
      "2023-12-16 15:47:12,376 - BERTopic - Reduced dimensionality\n",
      "2023-12-16 15:47:12,402 - BERTopic - Clustered reduced embeddings\n",
      "2023-12-16 15:47:18,257 - BERTopic - Reduced number of topics from 34 to 10\n"
     ]
    },
    {
     "name": "stdout",
     "output_type": "stream",
     "text": [
      "[S2.] \t Topics Modeled\n",
      "   Topic  Count                                           Name\n",
      "0     -1    498              -1_amey_contract_consortium_texas\n",
      "1      0    479               0_backlog_revenues_euro_amounted\n",
      "2      1    256                  1_traffic_roads_lanes_highway\n",
      "3      2    102         2_airport_passengers_heathrow_airports\n",
      "4      3    101                3_waste_services_water_cleaning\n",
      "5      4    100                4_debt_liquidity_cash_financial\n",
      "6      5     54  5_volunteers_commitment_sustainable_community\n",
      "7      6     50                       6_24_2024_scheduled_plan\n",
      "8      7     18       7_balconies_hope_photographed_reflection\n",
      "9      8     11  8_hyperlooptt_hyperloop_leader_transportation\n",
      "Topics details for company Ferrovial saved to disk. File 'results/topics/topics_details_lowsim_Ferrovial_en.xlsx'\n",
      "\t - Language : spanish\n",
      "\tExtracting 73 PR with low similarity...\n",
      "[S1-s.] \t Tonekize sentences\n",
      "[S1-e.] \t Sentences tonenized saved to disk. Total nr. sentences = 1672.\n",
      "[S2-s.] \t Starting with embeddings creation.\n"
     ]
    },
    {
     "data": {
      "application/vnd.jupyter.widget-view+json": {
       "model_id": "20da44829cc34fc79dca44f5140cbc60",
       "version_major": 2,
       "version_minor": 0
      },
      "text/plain": [
       "Batches:   0%|          | 0/53 [00:00<?, ?it/s]"
      ]
     },
     "metadata": {},
     "output_type": "display_data"
    },
    {
     "name": "stdout",
     "output_type": "stream",
     "text": [
      "[S2-e.] \t Embeddings file data/embeddings/Ferrovial_lowsim_es.pkl saved to disk.\n",
      "[S2.] \t Embeddings imported from {filename}. Starting topic modeling...\n"
     ]
    },
    {
     "name": "stderr",
     "output_type": "stream",
     "text": [
      "2023-12-16 15:47:32,281 - BERTopic - Reduced dimensionality\n",
      "2023-12-16 15:47:32,306 - BERTopic - Clustered reduced embeddings\n",
      "2023-12-16 15:47:39,639 - BERTopic - Reduced number of topics from 45 to 10\n"
     ]
    },
    {
     "name": "stdout",
     "output_type": "stream",
     "text": [
      "[S2.] \t Topics Modeled\n",
      "   Topic  Count                                            Name\n",
      "0     -1    602         -1_autopista_dólares_contratos_división\n",
      "1      0    527                   0_euros_407_servicios_negocio\n",
      "2      1    196         1_autopistas_tráfico_tráficos_movilidad\n",
      "3      2    151       2_pasajeros_aeropuertos_aeropuerto_denver\n",
      "4      3     55          3_dividendo_derechos_bonos_accionistas\n",
      "5      4     51          4_sociales_pandemia_empleados_usuarios\n",
      "6      5     38     5_sheffield_carreteras_ministerio_británico\n",
      "7      6     24           6_agua_saneamiento_áfrica_comunidades\n",
      "8      7     14  7_hyperloop_hyperlooptt_tecnología_experiencia\n",
      "9      8     14                 8_chile_estación_minero_chilena\n",
      "Topics details for company Ferrovial saved to disk. File 'results/topics/topics_details_lowsim_Ferrovial_es.xlsx'\n",
      "[10/30]\t** Sentences and Embeddings Creation for Company 'Grifols' **\n",
      "** Extracting topics on low similarity PR for Company 'Grifols' **\n",
      "\t - Language : english\n",
      "\tExtracting 52 PR with low similarity...\n",
      "[S1-s.] \t Tonekize sentences\n",
      "[S1-e.] \t Sentences tonenized saved to disk. Total nr. sentences = 3037.\n",
      "[S2-s.] \t Starting with embeddings creation.\n"
     ]
    },
    {
     "data": {
      "application/vnd.jupyter.widget-view+json": {
       "model_id": "90764c26f1214ab0bd94fe337ffe97a0",
       "version_major": 2,
       "version_minor": 0
      },
      "text/plain": [
       "Batches:   0%|          | 0/95 [00:00<?, ?it/s]"
      ]
     },
     "metadata": {},
     "output_type": "display_data"
    },
    {
     "name": "stdout",
     "output_type": "stream",
     "text": [
      "[S2-e.] \t Embeddings file data/embeddings/Grifols_lowsim_en.pkl saved to disk.\n",
      "[S2.] \t Embeddings imported from {filename}. Starting topic modeling...\n"
     ]
    },
    {
     "name": "stderr",
     "output_type": "stream",
     "text": [
      "2023-12-16 15:48:04,246 - BERTopic - Reduced dimensionality\n",
      "2023-12-16 15:48:04,300 - BERTopic - Clustered reduced embeddings\n",
      "2023-12-16 15:48:17,924 - BERTopic - Reduced number of topics from 90 to 10\n"
     ]
    },
    {
     "name": "stdout",
     "output_type": "stream",
     "text": [
      "[S2.] \t Topics Modeled\n",
      "   Topic  Count                                       Name\n",
      "0     -1    701           -1_debt_patients_plasma_increase\n",
      "1      0   1396      0_spanish_million_version_discrepancy\n",
      "2      1    295        1_bioscience_plasma_revenues_growth\n",
      "3      2    229      2_shareholders_directors_board_shares\n",
      "4      3    165         3_blood_procleix_transfusion_virus\n",
      "5      4     71       4_proteins_antitrypsin_alpha_protein\n",
      "6      5     68      5_centers_exceeded_donation_employees\n",
      "7      6     60     6_alzheimer_polio_survivors_prevalence\n",
      "8      7     29           7_china_renewal_albumin_licenses\n",
      "9      8     23  8_liver_cirrhosis_hemodialysis_transplant\n",
      "Topics details for company Grifols saved to disk. File 'results/topics/topics_details_lowsim_Grifols_en.xlsx'\n",
      "\t - Language : spanish\n",
      "\tExtracting 49 PR with low similarity...\n",
      "[S1-s.] \t Tonekize sentences\n",
      "[S1-e.] \t Sentences tonenized saved to disk. Total nr. sentences = 2759.\n",
      "[S2-s.] \t Starting with embeddings creation.\n"
     ]
    },
    {
     "data": {
      "application/vnd.jupyter.widget-view+json": {
       "model_id": "ad3c1a40cfea42e488e1f19ec3814227",
       "version_major": 2,
       "version_minor": 0
      },
      "text/plain": [
       "Batches:   0%|          | 0/87 [00:00<?, ?it/s]"
      ]
     },
     "metadata": {},
     "output_type": "display_data"
    },
    {
     "name": "stdout",
     "output_type": "stream",
     "text": [
      "[S2-e.] \t Embeddings file data/embeddings/Grifols_lowsim_es.pkl saved to disk.\n",
      "[S2.] \t Embeddings imported from {filename}. Starting topic modeling...\n"
     ]
    },
    {
     "name": "stderr",
     "output_type": "stream",
     "text": [
      "2023-12-16 15:48:42,365 - BERTopic - Reduced dimensionality\n",
      "2023-12-16 15:48:42,409 - BERTopic - Clustered reduced embeddings\n",
      "2023-12-16 15:48:55,741 - BERTopic - Reduced number of topics from 77 to 10\n"
     ]
    },
    {
     "name": "stdout",
     "output_type": "stream",
     "text": [
      "[S2.] \t Topics Modeled\n",
      "   Topic  Count                                               Name\n",
      "0     -1    837           -1_millones_ventas_trimestre_crecimiento\n",
      "1      0   1072              0_mercado_inversiones_ingresos_futuro\n",
      "2      1    285    1_supplies_farmacéutico_medicamentos_bioscience\n",
      "3      2    204                 2_plasma_deuda_financiación_costes\n",
      "4      3    193  3_inmunoglobulina_transfusional_transfusión_sa...\n",
      "5      4     51          4_alzheimer_alzhéimer_replacement_albumin\n",
      "6      5     46                         5_virus_detección_zika_fda\n",
      "7      6     32        6_duomocomunicacion_comunicación_tel_prensa\n",
      "8      7     20                   7_europa_europeos_alemania_unión\n",
      "9      8     19             8_latinoamérica_chile_argentina_méxico\n",
      "Topics details for company Grifols saved to disk. File 'results/topics/topics_details_lowsim_Grifols_es.xlsx'\n",
      "[11/30]\t** Sentences and Embeddings Creation for Company 'IAG' **\n",
      "** Extracting topics on low similarity PR for Company 'IAG' **\n",
      "\t - Language : english\n",
      "\tExtracting 44 PR with low similarity...\n",
      "[S1-s.] \t Tonekize sentences\n",
      "[S1-e.] \t Sentences tonenized saved to disk. Total nr. sentences = 1393.\n",
      "[S2-s.] \t Starting with embeddings creation.\n"
     ]
    },
    {
     "data": {
      "application/vnd.jupyter.widget-view+json": {
       "model_id": "5864f6c5ccb54988a1d9c06450a67fda",
       "version_major": 2,
       "version_minor": 0
      },
      "text/plain": [
       "Batches:   0%|          | 0/44 [00:00<?, ?it/s]"
      ]
     },
     "metadata": {},
     "output_type": "display_data"
    },
    {
     "name": "stdout",
     "output_type": "stream",
     "text": [
      "[S2-e.] \t Embeddings file data/embeddings/IAG_lowsim_en.pkl saved to disk.\n",
      "[S2.] \t Embeddings imported from {filename}. Starting topic modeling...\n"
     ]
    },
    {
     "name": "stderr",
     "output_type": "stream",
     "text": [
      "2023-12-16 15:49:09,217 - BERTopic - Reduced dimensionality\n",
      "2023-12-16 15:49:09,239 - BERTopic - Clustered reduced embeddings\n",
      "2023-12-16 15:49:14,738 - BERTopic - Reduced number of topics from 36 to 10\n"
     ]
    },
    {
     "name": "stdout",
     "output_type": "stream",
     "text": [
      "[S2.] \t Topics Modeled\n",
      "   Topic  Count                                       Name\n",
      "0     -1    408              -1_km_revenue_cargo_passenger\n",
      "1      0    378          0_statements_company_events_plans\n",
      "2      1    157           1_cent_traffic_capacity_measured\n",
      "3      2    135              2_reuters_thomson_offer_bonds\n",
      "4      3     79  3_oneworld_airlines_colombia_destinations\n",
      "5      4     61             4_billion_liquidity_cash_loans\n",
      "6      5     57              5_dublin_ireland_aer_heathrow\n",
      "7      6     44        6_travel_caa_expansion_restrictions\n",
      "8      7     42          7_airways_flights_aircraft_pilots\n",
      "9      8     32         8_millions_km_america_reclassified\n",
      "Topics details for company IAG saved to disk. File 'results/topics/topics_details_lowsim_IAG_en.xlsx'\n",
      "\t - Language : spanish\n",
      "\tExtracting 47 PR with low similarity...\n",
      "[S1-s.] \t Tonekize sentences\n",
      "[S1-e.] \t Sentences tonenized saved to disk. Total nr. sentences = 1339.\n",
      "[S2-s.] \t Starting with embeddings creation.\n"
     ]
    },
    {
     "data": {
      "application/vnd.jupyter.widget-view+json": {
       "model_id": "791130957be34db0a9a5a703330152b0",
       "version_major": 2,
       "version_minor": 0
      },
      "text/plain": [
       "Batches:   0%|          | 0/42 [00:00<?, ?it/s]"
      ]
     },
     "metadata": {},
     "output_type": "display_data"
    },
    {
     "name": "stdout",
     "output_type": "stream",
     "text": [
      "[S2-e.] \t Embeddings file data/embeddings/IAG_lowsim_es.pkl saved to disk.\n",
      "[S2.] \t Embeddings imported from {filename}. Starting topic modeling...\n"
     ]
    },
    {
     "name": "stderr",
     "output_type": "stream",
     "text": [
      "2023-12-16 15:49:28,339 - BERTopic - Reduced dimensionality\n",
      "2023-12-16 15:49:28,360 - BERTopic - Clustered reduced embeddings\n",
      "2023-12-16 15:49:34,095 - BERTopic - Reduced number of topics from 38 to 10\n"
     ]
    },
    {
     "name": "stdout",
     "output_type": "stream",
     "text": [
      "[S2.] \t Topics Modeled\n",
      "   Topic  Count                                         Name\n",
      "0     -1    350                   -1_bonos_euros_costes_2020\n",
      "1      0    418                           0_lse_madrid_13_10\n",
      "2      1    154          1_incrementó_demanda_tráfico_vuelos\n",
      "3      2    125      2_gastos_combustible_ingresos_impuestos\n",
      "4      3     94             3_crédito_liquidez_dólares_deuda\n",
      "5      4     80             4_airways_heathrow_airbus_vuelos\n",
      "6      5     51     5_aumentaron_constantes_ingresos_aumento\n",
      "7      6     40  6_latinoamérica_norteamérica_áfrica_oriente\n",
      "8      7     14                7_pensiones_airways_naps_plan\n",
      "9      8     13                  8_dism_increme_capacidad_la\n",
      "Topics details for company IAG saved to disk. File 'results/topics/topics_details_lowsim_IAG_es.xlsx'\n",
      "[12/30]\t** Sentences and Embeddings Creation for Company 'Iberdrola' **\n",
      "** Extracting topics on low similarity PR for Company 'Iberdrola' **\n",
      "\t - Language : english\n",
      "\tExtracting 190 PR with low similarity...\n",
      "[S1-s.] \t Tonekize sentences\n",
      "[S1-e.] \t Sentences tonenized saved to disk. Total nr. sentences = 4115.\n",
      "[S2-s.] \t Starting with embeddings creation.\n"
     ]
    },
    {
     "data": {
      "application/vnd.jupyter.widget-view+json": {
       "model_id": "83685c8e39604807817d802124f9b267",
       "version_major": 2,
       "version_minor": 0
      },
      "text/plain": [
       "Batches:   0%|          | 0/129 [00:00<?, ?it/s]"
      ]
     },
     "metadata": {},
     "output_type": "display_data"
    },
    {
     "name": "stdout",
     "output_type": "stream",
     "text": [
      "[S2-e.] \t Embeddings file data/embeddings/Iberdrola_lowsim_en.pkl saved to disk.\n",
      "[S2.] \t Embeddings imported from {filename}. Starting topic modeling...\n"
     ]
    },
    {
     "name": "stderr",
     "output_type": "stream",
     "text": [
      "2023-12-16 15:50:06,261 - BERTopic - Reduced dimensionality\n",
      "2023-12-16 15:50:06,339 - BERTopic - Clustered reduced embeddings\n",
      "2023-12-16 15:50:31,853 - BERTopic - Reduced number of topics from 100 to 10\n"
     ]
    },
    {
     "name": "stdout",
     "output_type": "stream",
     "text": [
      "[S2.] \t Topics Modeled\n",
      "   Topic  Count                                      Name\n",
      "0     -1    894        -1_energy_renewable_company_photos\n",
      "1      0   2333            0_billion_climate_energy_group\n",
      "2      1    491              1_wind_offshore_baltic_eagle\n",
      "3      2    151     2_mobility_electric_charging_stations\n",
      "4      3     76            3_credit_financing_green_bonds\n",
      "5      4     45        4_birds_species_migratory_habitats\n",
      "6      5     42     5_museum_exhibition_artistic_castilla\n",
      "7      6     41  6_volunteers_volunteer_food_volunteering\n",
      "8      7     25       7_women_federations_karateka_medals\n",
      "9      8     17     8_waste_recycling_processes_materials\n",
      "Topics details for company Iberdrola saved to disk. File 'results/topics/topics_details_lowsim_Iberdrola_en.xlsx'\n",
      "\t - Language : spanish\n",
      "\tExtracting 181 PR with low similarity...\n",
      "[S1-s.] \t Tonekize sentences\n",
      "[S1-e.] \t Sentences tonenized saved to disk. Total nr. sentences = 3676.\n",
      "[S2-s.] \t Starting with embeddings creation.\n"
     ]
    },
    {
     "data": {
      "application/vnd.jupyter.widget-view+json": {
       "model_id": "caae4a43b99f4d5da1a378bd0b74bf94",
       "version_major": 2,
       "version_minor": 0
      },
      "text/plain": [
       "Batches:   0%|          | 0/115 [00:00<?, ?it/s]"
      ]
     },
     "metadata": {},
     "output_type": "display_data"
    },
    {
     "name": "stdout",
     "output_type": "stream",
     "text": [
      "[S2-e.] \t Embeddings file data/embeddings/Iberdrola_lowsim_es.pkl saved to disk.\n",
      "[S2.] \t Embeddings imported from {filename}. Starting topic modeling...\n"
     ]
    },
    {
     "name": "stderr",
     "output_type": "stream",
     "text": [
      "2023-12-16 15:51:06,413 - BERTopic - Reduced dimensionality\n",
      "2023-12-16 15:51:06,480 - BERTopic - Clustered reduced embeddings\n",
      "2023-12-16 15:51:17,613 - BERTopic - Reduced number of topics from 78 to 10\n"
     ]
    },
    {
     "name": "stdout",
     "output_type": "stream",
     "text": [
      "[S2.] \t Topics Modeled\n",
      "   Topic  Count                                               Name\n",
      "0     -1   1285             -1_proyectos_marino_desarrollo_eólicos\n",
      "1      0   1909       0_millones_información_renovables_energética\n",
      "2      1    146       1_dividendo_financiación_crédito_accionistas\n",
      "3      2     81                2_innovation_innovación_smart_grids\n",
      "4      3     53    3_biodiversidad_migración_conservación_birdlife\n",
      "5      4     46  4_voluntariado_voluntarios_alimentación_solida...\n",
      "6      5     45               5_mujeres_diversidad_igualdad_gender\n",
      "7      6     42  6_movilidad_vehículos_transporte_interoperabil...\n",
      "8      7     40                     7_hoteles_fibra_óptica_resorts\n",
      "9      8     29           8_contrataciones_trabajadores_500_empleo\n",
      "Topics details for company Iberdrola saved to disk. File 'results/topics/topics_details_lowsim_Iberdrola_es.xlsx'\n",
      "[13/30]\t** Sentences and Embeddings Creation for Company 'Inditex' **\n",
      "** Extracting topics on low similarity PR for Company 'Inditex' **\n",
      "\t - Language : english\n",
      "\tExtracting 31 PR with low similarity...\n",
      "[S1-s.] \t Tonekize sentences\n",
      "[S1-e.] \t Sentences tonenized saved to disk. Total nr. sentences = 705.\n",
      "[S2-s.] \t Starting with embeddings creation.\n"
     ]
    },
    {
     "data": {
      "application/vnd.jupyter.widget-view+json": {
       "model_id": "4d8392c0d03847a199b7597cf18e098e",
       "version_major": 2,
       "version_minor": 0
      },
      "text/plain": [
       "Batches:   0%|          | 0/23 [00:00<?, ?it/s]"
      ]
     },
     "metadata": {},
     "output_type": "display_data"
    },
    {
     "name": "stdout",
     "output_type": "stream",
     "text": [
      "[S2-e.] \t Embeddings file data/embeddings/Inditex_lowsim_en.pkl saved to disk.\n",
      "[S2.] \t Embeddings imported from {filename}. Starting topic modeling...\n"
     ]
    },
    {
     "name": "stderr",
     "output_type": "stream",
     "text": [
      "2023-12-16 15:51:26,480 - BERTopic - Reduced dimensionality\n",
      "2023-12-16 15:51:26,493 - BERTopic - Clustered reduced embeddings\n",
      "2023-12-16 15:51:30,685 - BERTopic - Reduced number of topics from 21 to 10\n"
     ]
    },
    {
     "name": "stdout",
     "output_type": "stream",
     "text": [
      "[S2.] \t Topics Modeled\n",
      "   Topic  Count                                               Name\n",
      "0     -1    145                    -1_stores_brand_collection_pull\n",
      "1      0    139   0_sustainability_cotton_sustainable_stradivarius\n",
      "2      1    121                      1_growth_billion_sales_profit\n",
      "3      2    109                        2_stores_openings_bear_jobs\n",
      "4      3     60      3_disabilities_programmes_refugees_disability\n",
      "5      4     47              4_industriall_union_workers_agreement\n",
      "6      5     31                                5_reserved_rights__\n",
      "7      6     20  6_reporttalentlife_approachleadershiphistoryet...\n",
      "8      7     18                     7_rfid_radio_frequency_fishing\n",
      "9      8     15                      8_barcelona_calle_store_spain\n",
      "Topics details for company Inditex saved to disk. File 'results/topics/topics_details_lowsim_Inditex_en.xlsx'\n",
      "\t - Language : spanish\n",
      "\tExtracting 31 PR with low similarity...\n",
      "[S1-s.] \t Tonekize sentences\n",
      "[S1-e.] \t Sentences tonenized saved to disk. Total nr. sentences = 656.\n",
      "[S2-s.] \t Starting with embeddings creation.\n"
     ]
    },
    {
     "data": {
      "application/vnd.jupyter.widget-view+json": {
       "model_id": "fc7467c5347b4252a776c55633483c64",
       "version_major": 2,
       "version_minor": 0
      },
      "text/plain": [
       "Batches:   0%|          | 0/21 [00:00<?, ?it/s]"
      ]
     },
     "metadata": {},
     "output_type": "display_data"
    },
    {
     "name": "stdout",
     "output_type": "stream",
     "text": [
      "[S2-e.] \t Embeddings file data/embeddings/Inditex_lowsim_es.pkl saved to disk.\n",
      "[S2.] \t Embeddings imported from {filename}. Starting topic modeling...\n"
     ]
    },
    {
     "name": "stderr",
     "output_type": "stream",
     "text": [
      "2023-12-16 15:51:39,311 - BERTopic - Reduced dimensionality\n",
      "2023-12-16 15:51:39,321 - BERTopic - Clustered reduced embeddings\n",
      "2023-12-16 15:51:39,697 - BERTopic - Reduced number of topics from 3 to 3\n"
     ]
    },
    {
     "name": "stdout",
     "output_type": "stream",
     "text": [
      "[S2.] \t Topics Modeled\n",
      "   Topic  Count                                 Name\n",
      "0      0     32          0_rights_reserved_ver_anexo\n",
      "1      1     19  1_2007_finlandia_bulgaria_eslovenia\n",
      "2      2    605     2_inditex_tiendas_euros_millones\n",
      "Topics details for company Inditex saved to disk. File 'results/topics/topics_details_lowsim_Inditex_es.xlsx'\n",
      "[14/30]\t** Sentences and Embeddings Creation for Company 'Acciona' **\n",
      "** Extracting topics on low similarity PR for Company 'Acciona' **\n",
      "\t - Language : english\n",
      "\tExtracting 178 PR with low similarity...\n",
      "[S1-s.] \t Tonekize sentences\n",
      "[S1-e.] \t Sentences tonenized saved to disk. Total nr. sentences = 2929.\n",
      "[S2-s.] \t Starting with embeddings creation.\n"
     ]
    },
    {
     "data": {
      "application/vnd.jupyter.widget-view+json": {
       "model_id": "33a4b9fcdbc447408d4d2a6649af4b00",
       "version_major": 2,
       "version_minor": 0
      },
      "text/plain": [
       "Batches:   0%|          | 0/92 [00:00<?, ?it/s]"
      ]
     },
     "metadata": {},
     "output_type": "display_data"
    },
    {
     "name": "stdout",
     "output_type": "stream",
     "text": [
      "[S2-e.] \t Embeddings file data/embeddings/Acciona_lowsim_en.pkl saved to disk.\n",
      "[S2.] \t Embeddings imported from {filename}. Starting topic modeling...\n"
     ]
    },
    {
     "name": "stderr",
     "output_type": "stream",
     "text": [
      "2023-12-16 15:52:05,831 - BERTopic - Reduced dimensionality\n",
      "2023-12-16 15:52:05,878 - BERTopic - Clustered reduced embeddings\n",
      "2023-12-16 15:52:16,014 - BERTopic - Reduced number of topics from 58 to 10\n"
     ]
    },
    {
     "name": "stdout",
     "output_type": "stream",
     "text": [
      "[S2.] \t Topics Modeled\n",
      "   Topic  Count                                    Name\n",
      "0     -1    920       -1_energy_renewable_million_chile\n",
      "1      0    990    0_ebitda_securities_revenues_climate\n",
      "2      1    508    1_desalination_farm_solar_wastewater\n",
      "3      2    212             2_rail_metro_railway_tunnel\n",
      "4      3    127  3_exhibition_painting_qiang_volunteers\n",
      "5      4     54        4_concrete_3d_materials_printing\n",
      "6      5     50            5_species_vulture_kite_birds\n",
      "7      6     31       6_scooters_scooter_mobility_users\n",
      "8      7     22       7_battery_storage_batteries_texas\n",
      "9      8     15                8_salmon_fish_sea_ladder\n",
      "Topics details for company Acciona saved to disk. File 'results/topics/topics_details_lowsim_Acciona_en.xlsx'\n",
      "\t - Language : spanish\n",
      "\tExtracting 215 PR with low similarity...\n",
      "[S1-s.] \t Tonekize sentences\n",
      "[S1-e.] \t Sentences tonenized saved to disk. Total nr. sentences = 2661.\n",
      "[S2-s.] \t Starting with embeddings creation.\n"
     ]
    },
    {
     "data": {
      "application/vnd.jupyter.widget-view+json": {
       "model_id": "1f4bbb125a024c6f94f9b932fc8c0330",
       "version_major": 2,
       "version_minor": 0
      },
      "text/plain": [
       "Batches:   0%|          | 0/84 [00:00<?, ?it/s]"
      ]
     },
     "metadata": {},
     "output_type": "display_data"
    },
    {
     "name": "stdout",
     "output_type": "stream",
     "text": [
      "[S2-e.] \t Embeddings file data/embeddings/Acciona_lowsim_es.pkl saved to disk.\n",
      "[S2.] \t Embeddings imported from {filename}. Starting topic modeling...\n"
     ]
    },
    {
     "name": "stderr",
     "output_type": "stream",
     "text": [
      "2023-12-16 15:52:40,054 - BERTopic - Reduced dimensionality\n",
      "2023-12-16 15:52:40,096 - BERTopic - Clustered reduced embeddings\n",
      "2023-12-16 15:52:48,580 - BERTopic - Reduced number of topics from 52 to 10\n"
     ]
    },
    {
     "name": "stdout",
     "output_type": "stream",
     "text": [
      "[S2.] \t Topics Modeled\n",
      "   Topic  Count                                        Name\n",
      "0     -1    972  -1_madrid_construcción_proyecto_desarrollo\n",
      "1      0   1012             0_millones_test_australia_metro\n",
      "2      1    174           1_puente_túneles_túnel_kilómetros\n",
      "3      2    166  2_emisiones_hidrógeno_renovable_renovables\n",
      "4      3    152                3_agua_aguas_población_water\n",
      "5      4    117         4_mujeres_violencia_igualdad_cáncer\n",
      "6      5     24                     5_2019_2021_verano_2025\n",
      "7      6     17      6_aeropuertos_aeropuerto_chile_airport\n",
      "8      7     14             7_fibra_fibras_acero_materiales\n",
      "9      8     13   8_ibex_interacciones_seguidores_instagram\n",
      "Topics details for company Acciona saved to disk. File 'results/topics/topics_details_lowsim_Acciona_es.xlsx'\n",
      "[15/30]\t** Sentences and Embeddings Creation for Company 'Arcelormittal' **\n",
      "** Extracting topics on low similarity PR for Company 'Arcelormittal' **\n",
      "\t - Language : english\n",
      "\tExtracting 90 PR with low similarity...\n",
      "[S1-s.] \t Tonekize sentences\n",
      "[S1-e.] \t Sentences tonenized saved to disk. Total nr. sentences = 1890.\n",
      "[S2-s.] \t Starting with embeddings creation.\n"
     ]
    },
    {
     "data": {
      "application/vnd.jupyter.widget-view+json": {
       "model_id": "00757dd760dd41ad99bedfc333fa1049",
       "version_major": 2,
       "version_minor": 0
      },
      "text/plain": [
       "Batches:   0%|          | 0/60 [00:00<?, ?it/s]"
      ]
     },
     "metadata": {},
     "output_type": "display_data"
    },
    {
     "name": "stdout",
     "output_type": "stream",
     "text": [
      "[S2-e.] \t Embeddings file data/embeddings/Arcelormittal_lowsim_en.pkl saved to disk.\n",
      "[S2.] \t Embeddings imported from {filename}. Starting topic modeling...\n"
     ]
    },
    {
     "name": "stderr",
     "output_type": "stream",
     "text": [
      "2023-12-16 15:53:05,409 - BERTopic - Reduced dimensionality\n",
      "2023-12-16 15:53:05,437 - BERTopic - Clustered reduced embeddings\n",
      "2023-12-16 15:53:11,499 - BERTopic - Reduced number of topics from 38 to 10\n"
     ]
    },
    {
     "name": "stdout",
     "output_type": "stream",
     "text": [
      "[S2.] \t Topics Modeled\n",
      "   Topic  Count                                            Name\n",
      "0     -1    313                -1_earnings_europe_sales_results\n",
      "1      0   1114             0_exchanges_million_iron_luxembourg\n",
      "2      1    183              1_energy_renewable_electric_reduce\n",
      "3      2     91                2_cleaner_stronger_steels_bumper\n",
      "4      3     39           3_shares_shareholders_rights_warrants\n",
      "5      4     36               4_dividend_schedule_euros_payment\n",
      "6      5     34              5_strength_usibor_automotive_rails\n",
      "7      6     34           6_executive_leadership_senior_elected\n",
      "8      7     28  7_environmental_plant_commissioners_protection\n",
      "9      8     18     8_statements_expectations_projected_predict\n",
      "Topics details for company Arcelormittal saved to disk. File 'results/topics/topics_details_lowsim_Arcelormittal_en.xlsx'\n",
      "\t - Language : spanish\n",
      "\tExtracting 39 PR with low similarity...\n",
      "[S1-s.] \t Tonekize sentences\n",
      "[S1-e.] \t Sentences tonenized saved to disk. Total nr. sentences = 667.\n",
      "[S2-s.] \t Starting with embeddings creation.\n"
     ]
    },
    {
     "data": {
      "application/vnd.jupyter.widget-view+json": {
       "model_id": "ec811f176877470a904db1f960962830",
       "version_major": 2,
       "version_minor": 0
      },
      "text/plain": [
       "Batches:   0%|          | 0/21 [00:00<?, ?it/s]"
      ]
     },
     "metadata": {},
     "output_type": "display_data"
    },
    {
     "name": "stdout",
     "output_type": "stream",
     "text": [
      "[S2-e.] \t Embeddings file data/embeddings/Arcelormittal_lowsim_es.pkl saved to disk.\n",
      "[S2.] \t Embeddings imported from {filename}. Starting topic modeling...\n"
     ]
    },
    {
     "name": "stderr",
     "output_type": "stream",
     "text": [
      "2023-12-16 15:53:19,852 - BERTopic - Reduced dimensionality\n",
      "2023-12-16 15:53:19,862 - BERTopic - Clustered reduced embeddings\n",
      "2023-12-16 15:53:23,002 - BERTopic - Reduced number of topics from 12 to 10\n"
     ]
    },
    {
     "name": "stdout",
     "output_type": "stream",
     "text": [
      "[S2.] \t Topics Modeled\n",
      "   Topic  Count                                               Name\n",
      "0     -1     36          -1_información_investors_accidentes_tubos\n",
      "1      0    228                   0_millones_carbono_emisiones_co2\n",
      "2      1    149                         1_3d_diseño_printing_steel\n",
      "3      2     74              2_hidrógeno_hydrogen_energy_renovable\n",
      "4      3     40                   3_2021_resultados_trimestre_2022\n",
      "5      4     40                 4_inglés_discrepancia_texto_prensa\n",
      "6      5     38  5_facebooktwitterlinkedinemailprint_enlace_sos...\n",
      "7      6     25          6_corporate_reglamento_luxemburgo_mercado\n",
      "8      7     21                           7_deck_panel_magnelis_fm\n",
      "9      8     16                      8_capital_accionista_venta_34\n",
      "Topics details for company Arcelormittal saved to disk. File 'results/topics/topics_details_lowsim_Arcelormittal_es.xlsx'\n",
      "[16/30]\t** Sentences and Embeddings Creation for Company 'Bancosabadell' **\n",
      "** Extracting topics on low similarity PR for Company 'Bancosabadell' **\n",
      "\t - Language : english\n",
      "\tExtracting 59 PR with low similarity...\n",
      "[S1-s.] \t Tonekize sentences\n",
      "[S1-e.] \t Sentences tonenized saved to disk. Total nr. sentences = 1338.\n",
      "[S2-s.] \t Starting with embeddings creation.\n"
     ]
    },
    {
     "data": {
      "application/vnd.jupyter.widget-view+json": {
       "model_id": "f8e74f5709ef412f8f96f31954b651c1",
       "version_major": 2,
       "version_minor": 0
      },
      "text/plain": [
       "Batches:   0%|          | 0/42 [00:00<?, ?it/s]"
      ]
     },
     "metadata": {},
     "output_type": "display_data"
    },
    {
     "name": "stdout",
     "output_type": "stream",
     "text": [
      "[S2-e.] \t Embeddings file data/embeddings/Bancosabadell_lowsim_en.pkl saved to disk.\n",
      "[S2.] \t Embeddings imported from {filename}. Starting topic modeling...\n"
     ]
    },
    {
     "name": "stderr",
     "output_type": "stream",
     "text": [
      "2023-12-16 15:53:36,315 - BERTopic - Reduced dimensionality\n",
      "2023-12-16 15:53:36,336 - BERTopic - Clustered reduced embeddings\n",
      "2023-12-16 15:53:41,204 - BERTopic - Reduced number of topics from 29 to 10\n"
     ]
    },
    {
     "name": "stdout",
     "output_type": "stream",
     "text": [
      "[S2.] \t Topics Modeled\n",
      "   Topic  Count                                            Name\n",
      "0     -1    427                -1_market_insurance_funds_growth\n",
      "1      0    475                    0_income_million_euros_loans\n",
      "2      1    126              1_bstartup_investment_venture_plan\n",
      "3      2    100                    2_ratio_coverage_bps_capital\n",
      "4      3     62  3_sustainability_sustainable_climate_framework\n",
      "5      4     52                  4_cancer_biomedical_award_jury\n",
      "6      5     40             5_mobile_app_mastercard_contactless\n",
      "7      6     30             6_digital_awareness_sports_channels\n",
      "8      7     15                   7_housing_social_families_250\n",
      "9      8     11                     8_rating_bbb_outlook_credit\n",
      "Topics details for company Bancosabadell saved to disk. File 'results/topics/topics_details_lowsim_Bancosabadell_en.xlsx'\n",
      "\t - Language : spanish\n",
      "\tExtracting 154 PR with low similarity...\n",
      "[S1-s.] \t Tonekize sentences\n",
      "[S1-e.] \t Sentences tonenized saved to disk. Total nr. sentences = 1730.\n",
      "[S2-s.] \t Starting with embeddings creation.\n"
     ]
    },
    {
     "data": {
      "application/vnd.jupyter.widget-view+json": {
       "model_id": "49e9cf6f91d4402791468406c6f41226",
       "version_major": 2,
       "version_minor": 0
      },
      "text/plain": [
       "Batches:   0%|          | 0/55 [00:00<?, ?it/s]"
      ]
     },
     "metadata": {},
     "output_type": "display_data"
    },
    {
     "name": "stdout",
     "output_type": "stream",
     "text": [
      "[S2-e.] \t Embeddings file data/embeddings/Bancosabadell_lowsim_es.pkl saved to disk.\n",
      "[S2.] \t Embeddings imported from {filename}. Starting topic modeling...\n"
     ]
    },
    {
     "name": "stderr",
     "output_type": "stream",
     "text": [
      "2023-12-16 15:53:56,148 - BERTopic - Reduced dimensionality\n",
      "2023-12-16 15:53:56,176 - BERTopic - Clustered reduced embeddings\n",
      "2023-12-16 15:54:01,886 - BERTopic - Reduced number of topics from 34 to 10\n"
     ]
    },
    {
     "name": "stdout",
     "output_type": "stream",
     "text": [
      "[S2.] \t Topics Modeled\n",
      "   Topic  Count                                              Name\n",
      "0     -1    648                 -1_banco_iniciativa_barcelona_000\n",
      "1      0    691                    0_banco_mujeres_jazz_barcelona\n",
      "2      1     95          1_millennials_crédito_jubilación_ahorros\n",
      "3      2     80              2_renting_vehículos_movilidad_viajes\n",
      "4      3     78             3_bstartup_startups_inversión_venture\n",
      "5      4     65            4_marruecos_española_empresas_exportar\n",
      "6      5     23      5_alimentos_sostenibles_proteínas_ecológicos\n",
      "7      6     21          6_maternidad_reproducción_embarazos_bebé\n",
      "8      7     17               7_fármacos_cerebro_gate2brain_brain\n",
      "9      8     12  8_solares_solarprofit_fotovoltaica_fotovoltaicas\n",
      "Topics details for company Bancosabadell saved to disk. File 'results/topics/topics_details_lowsim_Bancosabadell_es.xlsx'\n",
      "[17/30]\t** Sentences and Embeddings Creation for Company 'Cellnex' **\n",
      "** Extracting topics on low similarity PR for Company 'Cellnex' **\n",
      "\t - Language : english\n",
      "\tExtracting 51 PR with low similarity...\n",
      "[S1-s.] \t Tonekize sentences\n",
      "[S1-e.] \t Sentences tonenized saved to disk. Total nr. sentences = 1305.\n",
      "[S2-s.] \t Starting with embeddings creation.\n"
     ]
    },
    {
     "data": {
      "application/vnd.jupyter.widget-view+json": {
       "model_id": "9bd1e8e637c2417f932137fe3e6254d8",
       "version_major": 2,
       "version_minor": 0
      },
      "text/plain": [
       "Batches:   0%|          | 0/41 [00:00<?, ?it/s]"
      ]
     },
     "metadata": {},
     "output_type": "display_data"
    },
    {
     "name": "stdout",
     "output_type": "stream",
     "text": [
      "[S2-e.] \t Embeddings file data/embeddings/Cellnex_lowsim_en.pkl saved to disk.\n",
      "[S2.] \t Embeddings imported from {filename}. Starting topic modeling...\n"
     ]
    },
    {
     "name": "stderr",
     "output_type": "stream",
     "text": [
      "2023-12-16 15:54:14,626 - BERTopic - Reduced dimensionality\n",
      "2023-12-16 15:54:14,648 - BERTopic - Clustered reduced embeddings\n",
      "2023-12-16 15:54:20,235 - BERTopic - Reduced number of topics from 38 to 10\n"
     ]
    },
    {
     "name": "stdout",
     "output_type": "stream",
     "text": [
      "[S2.] \t Topics Modeled\n",
      "   Topic  Count                                               Name\n",
      "0     -1    304            -1_network_5g_infrastructure_foundation\n",
      "1      0    439        0_sustainability_growth_carbon_shareholders\n",
      "2      1    183                 1_switzerland_italy_eurostoxx_ibex\n",
      "3      2    145          2_broadcasting_networks_services_security\n",
      "4      3     68                    3_debt_bonds_maturity_liquidity\n",
      "5      4     62               4_parking_sensors_smart_applications\n",
      "6      5     45         5_brighton_connectivity_passengers_railway\n",
      "7      6     26  6_mentors_entrepreneurs_entrepreneurship_found...\n",
      "8      7     19                          7_5g_fibre_antennas_arena\n",
      "9      8     14                8_hotel_visitors_guests_hospitality\n",
      "Topics details for company Cellnex saved to disk. File 'results/topics/topics_details_lowsim_Cellnex_en.xlsx'\n",
      "\t - Language : spanish\n",
      "\tExtracting 48 PR with low similarity...\n",
      "[S1-s.] \t Tonekize sentences\n",
      "[S1-e.] \t Sentences tonenized saved to disk. Total nr. sentences = 1281.\n",
      "[S2-s.] \t Starting with embeddings creation.\n"
     ]
    },
    {
     "data": {
      "application/vnd.jupyter.widget-view+json": {
       "model_id": "f1d3a0bee884469698b304a2d11e21da",
       "version_major": 2,
       "version_minor": 0
      },
      "text/plain": [
       "Batches:   0%|          | 0/41 [00:00<?, ?it/s]"
      ]
     },
     "metadata": {},
     "output_type": "display_data"
    },
    {
     "name": "stdout",
     "output_type": "stream",
     "text": [
      "[S2-e.] \t Embeddings file data/embeddings/Cellnex_lowsim_es.pkl saved to disk.\n",
      "[S2.] \t Embeddings imported from {filename}. Starting topic modeling...\n"
     ]
    },
    {
     "name": "stderr",
     "output_type": "stream",
     "text": [
      "2023-12-16 15:54:33,020 - BERTopic - Reduced dimensionality\n",
      "2023-12-16 15:54:33,039 - BERTopic - Clustered reduced embeddings\n",
      "2023-12-16 15:54:39,004 - BERTopic - Reduced number of topics from 39 to 10\n"
     ]
    },
    {
     "name": "stdout",
     "output_type": "stream",
     "text": [
      "[S2.] \t Topics Modeled\n",
      "   Topic  Count                                               Name\n",
      "0     -1    337    -1_telecomunicaciones_operadores_euros_compañía\n",
      "1      0    439           0_sostenibilidad_euros_disclosure_carbon\n",
      "2      1    262  1_servicios_infraestructuras_redes_telecomunic...\n",
      "3      2     73                    2_suiza_italia_portugal_austria\n",
      "4      3     43                3_fibra_óptica_cellnextelecom_https\n",
      "5      4     43                     4_bonos_deuda_coste_conversión\n",
      "6      5     35                5_eurostoxx_ibex35_mercado_euronext\n",
      "7      6     27             6_acciones_capital_ampliación_derechos\n",
      "8      7     11                          7_5g_piloto_drones_mobile\n",
      "9      8     11     8_diversidad_inclusión_discriminación_igualdad\n",
      "Topics details for company Cellnex saved to disk. File 'results/topics/topics_details_lowsim_Cellnex_es.xlsx'\n",
      "[18/30]\t** Sentences and Embeddings Creation for Company 'Fluidra' **\n",
      "** Extracting topics on low similarity PR for Company 'Fluidra' **\n",
      "\t - Language : english\n",
      "\tExtracting 31 PR with low similarity...\n",
      "[S1-s.] \t Tonekize sentences\n",
      "[S1-e.] \t Sentences tonenized saved to disk. Total nr. sentences = 468.\n",
      "[S2-s.] \t Starting with embeddings creation.\n"
     ]
    },
    {
     "data": {
      "application/vnd.jupyter.widget-view+json": {
       "model_id": "f1bdcbde150c43d1be32f89f344721fb",
       "version_major": 2,
       "version_minor": 0
      },
      "text/plain": [
       "Batches:   0%|          | 0/15 [00:00<?, ?it/s]"
      ]
     },
     "metadata": {},
     "output_type": "display_data"
    },
    {
     "name": "stdout",
     "output_type": "stream",
     "text": [
      "[S2-e.] \t Embeddings file data/embeddings/Fluidra_lowsim_en.pkl saved to disk.\n",
      "[S2.] \t Embeddings imported from {filename}. Starting topic modeling...\n"
     ]
    },
    {
     "name": "stderr",
     "output_type": "stream",
     "text": [
      "2023-12-16 15:54:45,572 - BERTopic - Reduced dimensionality\n",
      "2023-12-16 15:54:45,579 - BERTopic - Clustered reduced embeddings\n",
      "2023-12-16 15:54:51,119 - BERTopic - Reduced number of topics from 12 to 10\n"
     ]
    },
    {
     "name": "stdout",
     "output_type": "stream",
     "text": [
      "[S2.] \t Topics Modeled\n",
      "   Topic  Count                                          Name\n",
      "0     -1    159             -1_zodiac_cash_companies_dividend\n",
      "1      0     49                    0_euros_ebitda_profit_2020\n",
      "2      1     44             1_equipment_wellness_outlook_2022\n",
      "3      2     42  2_social_rating_environmental_sustainability\n",
      "4      3     42         3_europe_growth_geographical_northern\n",
      "5      4     37                4_debt_ratio_residential_units\n",
      "6      5     29       5_planes_executive_chairman_appointment\n",
      "7      6     28                6_water_swim_aquatics_sandwell\n",
      "8      7     23            7_portfolio_customers_needs_brands\n",
      "9      8     15       8_smith_acquisition_canby_headquartered\n",
      "Topics details for company Fluidra saved to disk. File 'results/topics/topics_details_lowsim_Fluidra_en.xlsx'\n",
      "\t - Language : spanish\n",
      "\tExtracting 32 PR with low similarity...\n",
      "[S1-s.] \t Tonekize sentences\n",
      "[S1-e.] \t Sentences tonenized saved to disk. Total nr. sentences = 473.\n",
      "[S2-s.] \t Starting with embeddings creation.\n"
     ]
    },
    {
     "data": {
      "application/vnd.jupyter.widget-view+json": {
       "model_id": "c8c0750670c44122bede9a978fa18a9b",
       "version_major": 2,
       "version_minor": 0
      },
      "text/plain": [
       "Batches:   0%|          | 0/15 [00:00<?, ?it/s]"
      ]
     },
     "metadata": {},
     "output_type": "display_data"
    },
    {
     "name": "stdout",
     "output_type": "stream",
     "text": [
      "[S2-e.] \t Embeddings file data/embeddings/Fluidra_lowsim_es.pkl saved to disk.\n",
      "[S2.] \t Embeddings imported from {filename}. Starting topic modeling...\n"
     ]
    },
    {
     "name": "stderr",
     "output_type": "stream",
     "text": [
      "2023-12-16 15:54:57,466 - BERTopic - Reduced dimensionality\n",
      "2023-12-16 15:54:57,474 - BERTopic - Clustered reduced embeddings\n",
      "2023-12-16 15:55:03,362 - BERTopic - Reduced number of topics from 14 to 10\n"
     ]
    },
    {
     "name": "stdout",
     "output_type": "stream",
     "text": [
      "[S2.] \t Topics Modeled\n",
      "   Topic  Count                                               Name\n",
      "0     -1    139                         -1_euros_dividendo_pago_50\n",
      "1      0    102              0_europa_crecimiento_trimestre_cambio\n",
      "2      1     63                   1_piscinas_wellness_piscina_swim\n",
      "3      2     39  2_necesidades_fabtronics_innovación_adquisiciones\n",
      "4      3     34         3_millones_gastos_australianos_recurrentes\n",
      "5      4     28      4_española_aplicaciones_sostenible_montenegro\n",
      "6      5     21    5_ejecutivo_presidente_integración_rentabilidad\n",
      "7      6     19  6_medioambientales_sostenibilidad_sociales_cir...\n",
      "8      7     15                        7_smith_1932_canby_hamilton\n",
      "9      8     13                   8_deuda_préstamo_ratio_reducción\n",
      "Topics details for company Fluidra saved to disk. File 'results/topics/topics_details_lowsim_Fluidra_es.xlsx'\n",
      "[19/30]\t** Sentences and Embeddings Creation for Company 'Indra' **\n",
      "** Extracting topics on low similarity PR for Company 'Indra' **\n",
      "\t - Language : english\n",
      "\tExtracting 184 PR with low similarity...\n",
      "[S1-s.] \t Tonekize sentences\n",
      "[S1-e.] \t Sentences tonenized saved to disk. Total nr. sentences = 4390.\n",
      "[S2-s.] \t Starting with embeddings creation.\n"
     ]
    },
    {
     "data": {
      "application/vnd.jupyter.widget-view+json": {
       "model_id": "59b9a606c397432f89eecd549808fa8d",
       "version_major": 2,
       "version_minor": 0
      },
      "text/plain": [
       "Batches:   0%|          | 0/138 [00:00<?, ?it/s]"
      ]
     },
     "metadata": {},
     "output_type": "display_data"
    },
    {
     "name": "stdout",
     "output_type": "stream",
     "text": [
      "[S2-e.] \t Embeddings file data/embeddings/Indra_lowsim_en.pkl saved to disk.\n",
      "[S2.] \t Embeddings imported from {filename}. Starting topic modeling...\n"
     ]
    },
    {
     "name": "stderr",
     "output_type": "stream",
     "text": [
      "2023-12-16 15:55:33,490 - BERTopic - Reduced dimensionality\n",
      "2023-12-16 15:55:33,569 - BERTopic - Clustered reduced embeddings\n",
      "2023-12-16 15:56:00,493 - BERTopic - Reduced number of topics from 103 to 10\n"
     ]
    },
    {
     "name": "stdout",
     "output_type": "stream",
     "text": [
      "[S2.] \t Topics Modeled\n",
      "   Topic  Count                                         Name\n",
      "0     -1   1334       -1_systems_management_traffic_european\n",
      "1      0   2437    0_business_countries_download_proprietary\n",
      "2      1    377           1_aircraft_helicopter_drone_drones\n",
      "3      2     81     2_africa_china_modernization_electricity\n",
      "4      3     57   3_patient_consultations_diagnosis_clinical\n",
      "5      4     36  4_biometric_identity_passports_verification\n",
      "6      5     27        5_election_polling_elections_stations\n",
      "7      6     16            6_televisión_tv_hbbtv_audiovisual\n",
      "8      7     13           7_robotic_retail_automation_robots\n",
      "9      8     12            8_rated_uruguay_argentina_average\n",
      "Topics details for company Indra saved to disk. File 'results/topics/topics_details_lowsim_Indra_en.xlsx'\n",
      "\t - Language : spanish\n",
      "\tExtracting 314 PR with low similarity...\n",
      "[S1-s.] \t Tonekize sentences\n",
      "[S1-e.] \t Sentences tonenized saved to disk. Total nr. sentences = 8799.\n",
      "[S2-s.] \t Starting with embeddings creation.\n"
     ]
    },
    {
     "data": {
      "application/vnd.jupyter.widget-view+json": {
       "model_id": "f7f09c6041a14c0196fbeb332011c480",
       "version_major": 2,
       "version_minor": 0
      },
      "text/plain": [
       "Batches:   0%|          | 0/275 [00:00<?, ?it/s]"
      ]
     },
     "metadata": {},
     "output_type": "display_data"
    },
    {
     "name": "stdout",
     "output_type": "stream",
     "text": [
      "[S2-e.] \t Embeddings file data/embeddings/Indra_lowsim_es.pkl saved to disk.\n",
      "[S2.] \t Embeddings imported from {filename}. Starting topic modeling...\n"
     ]
    },
    {
     "name": "stderr",
     "output_type": "stream",
     "text": [
      "2023-12-16 15:56:52,918 - BERTopic - Reduced dimensionality\n",
      "2023-12-16 15:56:53,104 - BERTopic - Clustered reduced embeddings\n",
      "2023-12-16 15:57:25,863 - BERTopic - Reduced number of topics from 156 to 10\n"
     ]
    },
    {
     "name": "stdout",
     "output_type": "stream",
     "text": [
      "[S2.] \t Topics Modeled\n",
      "   Topic  Count                                         Name\n",
      "0     -1   2525            -1_gestión_empresas_medios_sector\n",
      "1      0   5584            0_digital_indra_líder_consultoría\n",
      "2      1    252           1_aéreo_aeronave_radar_aeropuertos\n",
      "3      2    160   2_ciberseguridad_ataques_amenazas_phishing\n",
      "4      3    115   3_chatbots_robotización_artificial_chatbot\n",
      "5      4     69      4_elecciones_electoral_electorales_voto\n",
      "6      5     33                 5_cloud_nube_computing_nubes\n",
      "7      6     26         6_móvil_smartphone_móviles_bluetooth\n",
      "8      7     18  7_justicia_judiciales_expedientes_nicaragua\n",
      "9      8     17        8_bahréin_bahrein_delegación_visitado\n",
      "Topics details for company Indra saved to disk. File 'results/topics/topics_details_lowsim_Indra_es.xlsx'\n",
      "[20/30]\t** Sentences and Embeddings Creation for Company 'Logista' **\n",
      "** Extracting topics on low similarity PR for Company 'Logista' **\n",
      "\t - Language : english\n",
      "\tExtracting 50 PR with low similarity...\n",
      "[S1-s.] \t Tonekize sentences\n",
      "[S1-e.] \t Sentences tonenized saved to disk. Total nr. sentences = 698.\n",
      "[S2-s.] \t Starting with embeddings creation.\n"
     ]
    },
    {
     "data": {
      "application/vnd.jupyter.widget-view+json": {
       "model_id": "66da5cc53f194e70b239e4ddffd05892",
       "version_major": 2,
       "version_minor": 0
      },
      "text/plain": [
       "Batches:   0%|          | 0/22 [00:00<?, ?it/s]"
      ]
     },
     "metadata": {},
     "output_type": "display_data"
    },
    {
     "name": "stdout",
     "output_type": "stream",
     "text": [
      "[S2-e.] \t Embeddings file data/embeddings/Logista_lowsim_en.pkl saved to disk.\n",
      "[S2.] \t Embeddings imported from {filename}. Starting topic modeling...\n"
     ]
    },
    {
     "name": "stderr",
     "output_type": "stream",
     "text": [
      "2023-12-16 15:57:33,892 - BERTopic - Reduced dimensionality\n",
      "2023-12-16 15:57:33,903 - BERTopic - Clustered reduced embeddings\n",
      "2023-12-16 15:57:34,462 - BERTopic - Reduced number of topics from 4 to 4\n"
     ]
    },
    {
     "name": "stdout",
     "output_type": "stream",
     "text": [
      "[S2.] \t Topics Modeled\n",
      "   Topic  Count                                           Name\n",
      "0      0     51                   0_media_print_press_download\n",
      "1      1     24           1_andorra_fleet_franchises_platforms\n",
      "2      2     36     2_services_retailers_proximity_distributor\n",
      "3      3    587  3_nacex_distribution_companies_pharmaceutical\n",
      "Topics details for company Logista saved to disk. File 'results/topics/topics_details_lowsim_Logista_en.xlsx'\n",
      "\t - Language : spanish\n",
      "\tExtracting 50 PR with low similarity...\n",
      "[S1-s.] \t Tonekize sentences\n",
      "[S1-e.] \t Sentences tonenized saved to disk. Total nr. sentences = 702.\n",
      "[S2-s.] \t Starting with embeddings creation.\n"
     ]
    },
    {
     "data": {
      "application/vnd.jupyter.widget-view+json": {
       "model_id": "7dfcb1e618de42ab9526c4243b17a0a3",
       "version_major": 2,
       "version_minor": 0
      },
      "text/plain": [
       "Batches:   0%|          | 0/22 [00:00<?, ?it/s]"
      ]
     },
     "metadata": {},
     "output_type": "display_data"
    },
    {
     "name": "stdout",
     "output_type": "stream",
     "text": [
      "[S2-e.] \t Embeddings file data/embeddings/Logista_lowsim_es.pkl saved to disk.\n",
      "[S2.] \t Embeddings imported from {filename}. Starting topic modeling...\n"
     ]
    },
    {
     "name": "stderr",
     "output_type": "stream",
     "text": [
      "2023-12-16 15:57:42,694 - BERTopic - Reduced dimensionality\n",
      "2023-12-16 15:57:42,707 - BERTopic - Clustered reduced embeddings\n",
      "2023-12-16 15:57:46,575 - BERTopic - Reduced number of topics from 21 to 10\n"
     ]
    },
    {
     "name": "stdout",
     "output_type": "stream",
     "text": [
      "[S2.] \t Topics Modeled\n",
      "   Topic  Count                                               Name\n",
      "0     -1    160             -1_enfermedad_dent_grupo_investigación\n",
      "1      0    166              0_euros_servicios_beneficio_dividendo\n",
      "2      1     93       1_campaña_enfermedades_mensajería_solidarios\n",
      "3      2     71       2_temperatura_pharma_farmacéutico_hospitales\n",
      "4      3     68  3_climático_compañías_sostenibilidad_medioambi...\n",
      "5      4     49                4_imprimir_contacto_media_descargar\n",
      "6      5     37            5_andorra_flota_plataformas_franquicias\n",
      "7      6     30         6_equipo_empleados_eficiente_profesionales\n",
      "8      7     17                7_europa_distribuidor_líder_europeo\n",
      "9      8     11       8_seguridad_legislación_certificación_recoge\n",
      "Topics details for company Logista saved to disk. File 'results/topics/topics_details_lowsim_Logista_es.xlsx'\n",
      "[21/30]\t** Sentences and Embeddings Creation for Company 'Melia' **\n",
      "** Extracting topics on low similarity PR for Company 'Melia' **\n",
      "\t - Language : english\n",
      "\tExtracting 37 PR with low similarity...\n",
      "[S1-s.] \t Tonekize sentences\n",
      "[S1-e.] \t Sentences tonenized saved to disk. Total nr. sentences = 646.\n",
      "[S2-s.] \t Starting with embeddings creation.\n"
     ]
    },
    {
     "data": {
      "application/vnd.jupyter.widget-view+json": {
       "model_id": "1a042e899a004cc489ca925252570b64",
       "version_major": 2,
       "version_minor": 0
      },
      "text/plain": [
       "Batches:   0%|          | 0/21 [00:00<?, ?it/s]"
      ]
     },
     "metadata": {},
     "output_type": "display_data"
    },
    {
     "name": "stdout",
     "output_type": "stream",
     "text": [
      "[S2-e.] \t Embeddings file data/embeddings/Melia_lowsim_en.pkl saved to disk.\n",
      "[S2.] \t Embeddings imported from {filename}. Starting topic modeling...\n"
     ]
    },
    {
     "name": "stderr",
     "output_type": "stream",
     "text": [
      "2023-12-16 15:57:55,102 - BERTopic - Reduced dimensionality\n",
      "2023-12-16 15:57:55,114 - BERTopic - Clustered reduced embeddings\n",
      "2023-12-16 15:57:55,348 - BERTopic - Reduced number of topics from 2 to 2\n"
     ]
    },
    {
     "name": "stdout",
     "output_type": "stream",
     "text": [
      "[S2.] \t Topics Modeled\n",
      "   Topic  Count                             Name\n",
      "0      0     29  0_shares_download_retains_parts\n",
      "1      1    617      1_hotels_hotel_guests_ibiza\n",
      "Topics details for company Melia saved to disk. File 'results/topics/topics_details_lowsim_Melia_en.xlsx'\n",
      "\t - Language : spanish\n",
      "\tExtracting 99 PR with low similarity...\n",
      "[S1-s.] \t Tonekize sentences\n",
      "[S1-e.] \t Sentences tonenized saved to disk. Total nr. sentences = 1151.\n",
      "[S2-s.] \t Starting with embeddings creation.\n"
     ]
    },
    {
     "data": {
      "application/vnd.jupyter.widget-view+json": {
       "model_id": "81808bc862b8497aaf37d39a4c7d44a4",
       "version_major": 2,
       "version_minor": 0
      },
      "text/plain": [
       "Batches:   0%|          | 0/36 [00:00<?, ?it/s]"
      ]
     },
     "metadata": {},
     "output_type": "display_data"
    },
    {
     "name": "stdout",
     "output_type": "stream",
     "text": [
      "[S2-e.] \t Embeddings file data/embeddings/Melia_lowsim_es.pkl saved to disk.\n",
      "[S2.] \t Embeddings imported from {filename}. Starting topic modeling...\n"
     ]
    },
    {
     "name": "stderr",
     "output_type": "stream",
     "text": [
      "2023-12-16 15:58:09,102 - BERTopic - Reduced dimensionality\n",
      "2023-12-16 15:58:09,124 - BERTopic - Clustered reduced embeddings\n",
      "2023-12-16 15:58:09,606 - BERTopic - Reduced number of topics from 4 to 4\n"
     ]
    },
    {
     "name": "stdout",
     "output_type": "stream",
     "text": [
      "[S2.] \t Topics Modeled\n",
      "   Topic  Count                                  Name\n",
      "0      0     82    0_descargar_imagen_gmfenix_fpdeseo\n",
      "1      1     22         1_cubano_tribunal_ley_juzgado\n",
      "2      2     29   2_golf_circuito_ballesteros_amateur\n",
      "3      3   1018  3_hotels_hotel_international_hoteles\n",
      "Topics details for company Melia saved to disk. File 'results/topics/topics_details_lowsim_Melia_es.xlsx'\n",
      "[22/30]\t** Sentences and Embeddings Creation for Company 'Merlin' **\n",
      "** Extracting topics on low similarity PR for Company 'Merlin' **\n",
      "\t - Language : english\n",
      "\tExtracting 16 PR with low similarity...\n",
      "[S1-s.] \t Tonekize sentences\n",
      "[S1-e.] \t Sentences tonenized saved to disk. Total nr. sentences = 393.\n",
      "[S2-s.] \t Starting with embeddings creation.\n"
     ]
    },
    {
     "data": {
      "application/vnd.jupyter.widget-view+json": {
       "model_id": "59de90348c3d49009b3f784d013654e5",
       "version_major": 2,
       "version_minor": 0
      },
      "text/plain": [
       "Batches:   0%|          | 0/13 [00:00<?, ?it/s]"
      ]
     },
     "metadata": {},
     "output_type": "display_data"
    },
    {
     "name": "stdout",
     "output_type": "stream",
     "text": [
      "[S2-e.] \t Embeddings file data/embeddings/Merlin_lowsim_en.pkl saved to disk.\n",
      "[S2.] \t Embeddings imported from {filename}. Starting topic modeling...\n"
     ]
    },
    {
     "name": "stderr",
     "output_type": "stream",
     "text": [
      "2023-12-16 15:58:16,196 - BERTopic - Reduced dimensionality\n",
      "2023-12-16 15:58:16,203 - BERTopic - Clustered reduced embeddings\n",
      "2023-12-16 15:58:18,051 - BERTopic - Reduced number of topics from 8 to 8\n"
     ]
    },
    {
     "name": "stdout",
     "output_type": "stream",
     "text": [
      "[S2.] \t Topics Modeled\n",
      "   Topic  Count                                       Name\n",
      "0     -1     36     -1_region_property_management_portugal\n",
      "1      0     16  0_tinkle_www_information_merlinproperties\n",
      "2      1     20                   1_gpr_index_core_invests\n",
      "3      2     15              2_energy_data_carbon_charging\n",
      "4      3    175          3_million_properties_bonds_merlin\n",
      "5      4     82                4_rent_tenants_rents_growth\n",
      "6      5     12          5_warehouse_logistics_spain_lease\n",
      "7      6     37   6_plan_refurbishment_madrid_construction\n",
      "Topics details for company Merlin saved to disk. File 'results/topics/topics_details_lowsim_Merlin_en.xlsx'\n",
      "\t - Language : spanish\n",
      "\tExtracting 23 PR with low similarity...\n",
      "[S1-s.] \t Tonekize sentences\n",
      "[S1-e.] \t Sentences tonenized saved to disk. Total nr. sentences = 345.\n",
      "[S2-s.] \t Starting with embeddings creation.\n"
     ]
    },
    {
     "data": {
      "application/vnd.jupyter.widget-view+json": {
       "model_id": "2e11d63cb0cf4985b1bf316114fb9e57",
       "version_major": 2,
       "version_minor": 0
      },
      "text/plain": [
       "Batches:   0%|          | 0/11 [00:00<?, ?it/s]"
      ]
     },
     "metadata": {},
     "output_type": "display_data"
    },
    {
     "name": "stdout",
     "output_type": "stream",
     "text": [
      "[S2-e.] \t Embeddings file data/embeddings/Merlin_lowsim_es.pkl saved to disk.\n",
      "[S2.] \t Embeddings imported from {filename}. Starting topic modeling...\n"
     ]
    },
    {
     "name": "stderr",
     "output_type": "stream",
     "text": [
      "2023-12-16 15:58:23,946 - BERTopic - Reduced dimensionality\n",
      "2023-12-16 15:58:23,952 - BERTopic - Clustered reduced embeddings\n",
      "2023-12-16 15:58:24,564 - BERTopic - Reduced number of topics from 2 to 2\n"
     ]
    },
    {
     "name": "stdout",
     "output_type": "stream",
     "text": [
      "[S2.] \t Topics Modeled\n",
      "   Topic  Count                                             Name\n",
      "0      0     48  0_modificación_garantías_generalidades_licencia\n",
      "1      1    297                    1_madrid_informe_breeam_datos\n",
      "Topics details for company Merlin saved to disk. File 'results/topics/topics_details_lowsim_Merlin_es.xlsx'\n",
      "[23/30]\t** Sentences and Embeddings Creation for Company 'Naturgy' **\n",
      "** Extracting topics on low similarity PR for Company 'Naturgy' **\n",
      "\t - Language : english\n",
      "\tExtracting 5 PR with low similarity...\n",
      "[S1-s.] \t Tonekize sentences\n",
      "[S1-e.] \t Sentences tonenized saved to disk. Total nr. sentences = 112.\n",
      "[S2-s.] \t Starting with embeddings creation.\n"
     ]
    },
    {
     "data": {
      "application/vnd.jupyter.widget-view+json": {
       "model_id": "cf94192c19c34ceca8b20470501a44bb",
       "version_major": 2,
       "version_minor": 0
      },
      "text/plain": [
       "Batches:   0%|          | 0/4 [00:00<?, ?it/s]"
      ]
     },
     "metadata": {},
     "output_type": "display_data"
    },
    {
     "name": "stdout",
     "output_type": "stream",
     "text": [
      "[S2-e.] \t Embeddings file data/embeddings/Naturgy_lowsim_en.pkl saved to disk.\n",
      "[S2.] \t Embeddings imported from {filename}. Starting topic modeling...\n"
     ]
    },
    {
     "name": "stderr",
     "output_type": "stream",
     "text": [
      "2023-12-16 15:58:29,512 - BERTopic - Reduced dimensionality\n",
      "2023-12-16 15:58:29,516 - BERTopic - Clustered reduced embeddings\n",
      "2023-12-16 15:58:30,658 - BERTopic - Reduced number of topics from 4 to 4\n"
     ]
    },
    {
     "name": "stdout",
     "output_type": "stream",
     "text": [
      "[S2.] \t Topics Modeled\n",
      "   Topic  Count                                              Name\n",
      "0     -1      4               -1_talks_burning_better_inventories\n",
      "1      0     18  0_plant_construction_multinational_hydroelectric\n",
      "2      1     50               1_pollution_government_spain_health\n",
      "3      2     40                     2_hydrogen_fuel_aeh2_stations\n",
      "Topics details for company Naturgy saved to disk. File 'results/topics/topics_details_lowsim_Naturgy_en.xlsx'\n",
      "\t - Language : spanish\n",
      "\tExtracting 108 PR with low similarity...\n",
      "[S1-s.] \t Tonekize sentences\n",
      "[S1-e.] \t Sentences tonenized saved to disk. Total nr. sentences = 2184.\n",
      "[S2-s.] \t Starting with embeddings creation.\n"
     ]
    },
    {
     "data": {
      "application/vnd.jupyter.widget-view+json": {
       "model_id": "4fa5749ec47242f7ba123f98d81ccbb6",
       "version_major": 2,
       "version_minor": 0
      },
      "text/plain": [
       "Batches:   0%|          | 0/69 [00:00<?, ?it/s]"
      ]
     },
     "metadata": {},
     "output_type": "display_data"
    },
    {
     "name": "stdout",
     "output_type": "stream",
     "text": [
      "[S2-e.] \t Embeddings file data/embeddings/Naturgy_lowsim_es.pkl saved to disk.\n",
      "[S2.] \t Embeddings imported from {filename}. Starting topic modeling...\n"
     ]
    },
    {
     "name": "stderr",
     "output_type": "stream",
     "text": [
      "2023-12-16 15:58:51,007 - BERTopic - Reduced dimensionality\n",
      "2023-12-16 15:58:51,047 - BERTopic - Clustered reduced embeddings\n",
      "2023-12-16 15:58:58,562 - BERTopic - Reduced number of topics from 51 to 10\n"
     ]
    },
    {
     "name": "stdout",
     "output_type": "stream",
     "text": [
      "[S2.] \t Topics Modeled\n",
      "   Topic  Count                                            Name\n",
      "0     -1    744                      -1_prensa_gas_general_2017\n",
      "1      0    846  0_fundación_sostenibilidad_ambiente_energética\n",
      "2      1    197                      1_natural_gas_grupo_españa\n",
      "3      2    125   2_desmantelamiento_central_térmica_demolición\n",
      "4      3     91           3_cliente_google_cloud_digitalización\n",
      "5      4     66          4_bunkering_combustible_buques_puertos\n",
      "6      5     36           5_lago_biodiversidad_minera_hectáreas\n",
      "7      6     34                           6_2022_2021_2014_2016\n",
      "8      7     31                 7_emisiones_co2_carbono_motores\n",
      "9      8     14                8_trabajadores_horas_trabajo_290\n",
      "Topics details for company Naturgy saved to disk. File 'results/topics/topics_details_lowsim_Naturgy_es.xlsx'\n",
      "[24/30]\t** Sentences and Embeddings Creation for Company 'Red' **\n",
      "** Extracting topics on low similarity PR for Company 'Red' **\n",
      "\t - Language : english\n",
      "\tExtracting 6 PR with low similarity...\n",
      "[S1-s.] \t Tonekize sentences\n",
      "[S1-e.] \t Sentences tonenized saved to disk. Total nr. sentences = 94.\n",
      "[S2-s.] \t Starting with embeddings creation.\n"
     ]
    },
    {
     "data": {
      "application/vnd.jupyter.widget-view+json": {
       "model_id": "2bb6fdaa28b74b67965f8886694882ae",
       "version_major": 2,
       "version_minor": 0
      },
      "text/plain": [
       "Batches:   0%|          | 0/3 [00:00<?, ?it/s]"
      ]
     },
     "metadata": {},
     "output_type": "display_data"
    },
    {
     "name": "stdout",
     "output_type": "stream",
     "text": [
      "[S2-e.] \t Embeddings file data/embeddings/Red_lowsim_en.pkl saved to disk.\n",
      "[S2.] \t Embeddings imported from {filename}. Starting topic modeling...\n"
     ]
    },
    {
     "name": "stderr",
     "output_type": "stream",
     "text": [
      "2023-12-16 15:59:03,258 - BERTopic - Reduced dimensionality\n",
      "2023-12-16 15:59:03,262 - BERTopic - Clustered reduced embeddings\n",
      "2023-12-16 15:59:03,747 - BERTopic - Reduced number of topics from 2 to 2\n"
     ]
    },
    {
     "name": "stdout",
     "output_type": "stream",
     "text": [
      "[S2.] \t Topics Modeled\n",
      "   Topic  Count                                      Name\n",
      "0      0     17            0_generation_energy_solar_wind\n",
      "1      1     77  1_eléctrica_substation_ibiza_electricity\n",
      "Topics details for company Red saved to disk. File 'results/topics/topics_details_lowsim_Red_en.xlsx'\n",
      "\t - Language : spanish\n",
      "\tExtracting 53 PR with low similarity...\n",
      "[S1-s.] \t Tonekize sentences\n",
      "[S1-e.] \t Sentences tonenized saved to disk. Total nr. sentences = 1039.\n",
      "[S2-s.] \t Starting with embeddings creation.\n"
     ]
    },
    {
     "data": {
      "application/vnd.jupyter.widget-view+json": {
       "model_id": "2aadb08e77b64587b7413efc50a92451",
       "version_major": 2,
       "version_minor": 0
      },
      "text/plain": [
       "Batches:   0%|          | 0/33 [00:00<?, ?it/s]"
      ]
     },
     "metadata": {},
     "output_type": "display_data"
    },
    {
     "name": "stdout",
     "output_type": "stream",
     "text": [
      "[S2-e.] \t Embeddings file data/embeddings/Red_lowsim_es.pkl saved to disk.\n",
      "[S2.] \t Embeddings imported from {filename}. Starting topic modeling...\n"
     ]
    },
    {
     "name": "stderr",
     "output_type": "stream",
     "text": [
      "2023-12-16 15:59:13,666 - BERTopic - Reduced dimensionality\n",
      "2023-12-16 15:59:13,682 - BERTopic - Clustered reduced embeddings\n",
      "2023-12-16 15:59:18,224 - BERTopic - Reduced number of topics from 23 to 10\n"
     ]
    },
    {
     "name": "stdout",
     "output_type": "stream",
     "text": [
      "[S2.] \t Topics Modeled\n",
      "   Topic  Count                                               Name\n",
      "0     -1    359        -1_compañía_correos_sostenibilidad_millones\n",
      "1      0    173                    0_rural_mujeres_igualdad_social\n",
      "2      1    161           1_sistema_energética_eléctrico_eléctrica\n",
      "3      2     83                    2_euros_dividendo_standard_poor\n",
      "4      3     78    3_especies_biodiversidad_biodibal_invertebrados\n",
      "5      4     57  4_propuestas_emprendedores_startups_emprendedoras\n",
      "6      5     43                 5_fibra_óptica_hyperloop_movilidad\n",
      "7      6     38                6_5g_inspección_drones_conectividad\n",
      "8      7     26              7_suficientes_primavera_sacarte_space\n",
      "9      8     21             8_león_castilla_guadalajara_valenciana\n",
      "Topics details for company Red saved to disk. File 'results/topics/topics_details_lowsim_Red_es.xlsx'\n",
      "[25/30]\t** Sentences and Embeddings Creation for Company 'Repsol' **\n",
      "** Extracting topics on low similarity PR for Company 'Repsol' **\n",
      "\t - Language : english\n",
      "\tExtracting 66 PR with low similarity...\n",
      "[S1-s.] \t Tonekize sentences\n",
      "[S1-e.] \t Sentences tonenized saved to disk. Total nr. sentences = 922.\n",
      "[S2-s.] \t Starting with embeddings creation.\n"
     ]
    },
    {
     "data": {
      "application/vnd.jupyter.widget-view+json": {
       "model_id": "ec6e1c75af3249ebb6507980d5e1df63",
       "version_major": 2,
       "version_minor": 0
      },
      "text/plain": [
       "Batches:   0%|          | 0/29 [00:00<?, ?it/s]"
      ]
     },
     "metadata": {},
     "output_type": "display_data"
    },
    {
     "name": "stdout",
     "output_type": "stream",
     "text": [
      "[S2-e.] \t Embeddings file data/embeddings/Repsol_lowsim_en.pkl saved to disk.\n",
      "[S2.] \t Embeddings imported from {filename}. Starting topic modeling...\n"
     ]
    },
    {
     "name": "stderr",
     "output_type": "stream",
     "text": [
      "2023-12-16 15:59:27,867 - BERTopic - Reduced dimensionality\n",
      "2023-12-16 15:59:27,882 - BERTopic - Clustered reduced embeddings\n",
      "2023-12-16 15:59:31,731 - BERTopic - Reduced number of topics from 19 to 10\n"
     ]
    },
    {
     "name": "stdout",
     "output_type": "stream",
     "text": [
      "[S2.] \t Topics Modeled\n",
      "   Topic  Count                                         Name\n",
      "0     -1    278              -1_company_renewable_2025_stake\n",
      "1      0    141              0_hydrogen_renewable_jobs_solar\n",
      "2      1    108                       1_oil_prices_euros_gas\n",
      "3      2    104         2_billion_shareholders_dividend_debt\n",
      "4      3    102              3_2050_zero_emissions_strategic\n",
      "5      4     95  4_green_reforestation_government_foundation\n",
      "6      5     35   5_financing_bonds_sustainability_framework\n",
      "7      6     28             6_biofuels_waste_synthetic_fuels\n",
      "8      7     17               7_wind_delta_turbines_floating\n",
      "9      8     14                  8_2026_2025_schedule_market\n",
      "Topics details for company Repsol saved to disk. File 'results/topics/topics_details_lowsim_Repsol_en.xlsx'\n",
      "\t - Language : spanish\n",
      "\tExtracting 82 PR with low similarity...\n",
      "[S1-s.] \t Tonekize sentences\n",
      "[S1-e.] \t Sentences tonenized saved to disk. Total nr. sentences = 638.\n",
      "[S2-s.] \t Starting with embeddings creation.\n"
     ]
    },
    {
     "data": {
      "application/vnd.jupyter.widget-view+json": {
       "model_id": "014e0d8d352e4f0e9b4e7af9a004c4d4",
       "version_major": 2,
       "version_minor": 0
      },
      "text/plain": [
       "Batches:   0%|          | 0/20 [00:00<?, ?it/s]"
      ]
     },
     "metadata": {},
     "output_type": "display_data"
    },
    {
     "name": "stdout",
     "output_type": "stream",
     "text": [
      "[S2-e.] \t Embeddings file data/embeddings/Repsol_lowsim_es.pkl saved to disk.\n",
      "[S2.] \t Embeddings imported from {filename}. Starting topic modeling...\n"
     ]
    },
    {
     "name": "stderr",
     "output_type": "stream",
     "text": [
      "2023-12-16 15:59:39,869 - BERTopic - Reduced dimensionality\n",
      "2023-12-16 15:59:39,880 - BERTopic - Clustered reduced embeddings\n",
      "2023-12-16 15:59:40,539 - BERTopic - Reduced number of topics from 5 to 5\n"
     ]
    },
    {
     "name": "stdout",
     "output_type": "stream",
     "text": [
      "[S2.] \t Topics Modeled\n",
      "   Topic  Count                                           Name\n",
      "0      0     16     0_plataforma_aerogenerador_flotante_parque\n",
      "1      1     11          1_windplus_renováveis_principle_power\n",
      "2      2    576      2_energética_compañía_proyecto_estaciones\n",
      "3      3     22  3_competición_motogp_motociclismo_combustible\n",
      "4      4     13    4_marinas_diversificación_tecnológico_áreas\n",
      "Topics details for company Repsol saved to disk. File 'results/topics/topics_details_lowsim_Repsol_es.xlsx'\n",
      "[26/30]\t** Sentences and Embeddings Creation for Company 'Rovi' **\n",
      "** Extracting topics on low similarity PR for Company 'Rovi' **\n",
      "\t - Language : english\n",
      "\tExtracting 41 PR with low similarity...\n",
      "[S1-s.] \t Tonekize sentences\n",
      "[S1-e.] \t Sentences tonenized saved to disk. Total nr. sentences = 3822.\n",
      "[S2-s.] \t Starting with embeddings creation.\n"
     ]
    },
    {
     "data": {
      "application/vnd.jupyter.widget-view+json": {
       "model_id": "d218325975a34a65846ed5ae6c5e3fa7",
       "version_major": 2,
       "version_minor": 0
      },
      "text/plain": [
       "Batches:   0%|          | 0/120 [00:00<?, ?it/s]"
      ]
     },
     "metadata": {},
     "output_type": "display_data"
    },
    {
     "name": "stdout",
     "output_type": "stream",
     "text": [
      "[S2-e.] \t Embeddings file data/embeddings/Rovi_lowsim_en.pkl saved to disk.\n",
      "[S2.] \t Embeddings imported from {filename}. Starting topic modeling...\n"
     ]
    },
    {
     "name": "stderr",
     "output_type": "stream",
     "text": [
      "2023-12-16 16:00:18,594 - BERTopic - Reduced dimensionality\n",
      "2023-12-16 16:00:18,661 - BERTopic - Clustered reduced embeddings\n",
      "2023-12-16 16:00:38,209 - BERTopic - Reduced number of topics from 135 to 10\n"
     ]
    },
    {
     "name": "stdout",
     "output_type": "stream",
     "text": [
      "[S2.] \t Topics Modeled\n",
      "   Topic  Count                                             Name\n",
      "0     -1    618                  -1_financial_report_assets_risk\n",
      "1      0   2512                     0_margin_q1_profit_financial\n",
      "2      1    396            1_ism_thymanax_schizophrenia_launched\n",
      "3      2     72                 2_heart_chronic_corlentor_angina\n",
      "4      3     72           3_countries_launch_registration_russia\n",
      "5      4     50            4_heparin_heparins_lmwh_anticoagulant\n",
      "6      5     46        5_deceleration_market_selective_inhibitor\n",
      "7      6     19      6_imaging_tomography_resonance_computerized\n",
      "8      7     19  7_hypercholesterolemia_statin_licenses_diabetic\n",
      "9      8     18                  8_cell_lung_cancer_chemotherapy\n",
      "Topics details for company Rovi saved to disk. File 'results/topics/topics_details_lowsim_Rovi_en.xlsx'\n",
      "\t - Language : spanish\n",
      "\tExtracting 42 PR with low similarity...\n",
      "[S1-s.] \t Tonekize sentences\n",
      "[S1-e.] \t Sentences tonenized saved to disk. Total nr. sentences = 3551.\n",
      "[S2-s.] \t Starting with embeddings creation.\n"
     ]
    },
    {
     "data": {
      "application/vnd.jupyter.widget-view+json": {
       "model_id": "e85a91c9cf0740519b27fa400857a1e7",
       "version_major": 2,
       "version_minor": 0
      },
      "text/plain": [
       "Batches:   0%|          | 0/111 [00:00<?, ?it/s]"
      ]
     },
     "metadata": {},
     "output_type": "display_data"
    },
    {
     "name": "stdout",
     "output_type": "stream",
     "text": [
      "[S2-e.] \t Embeddings file data/embeddings/Rovi_lowsim_es.pkl saved to disk.\n",
      "[S2.] \t Embeddings imported from {filename}. Starting topic modeling...\n"
     ]
    },
    {
     "name": "stderr",
     "output_type": "stream",
     "text": [
      "2023-12-16 16:01:12,426 - BERTopic - Reduced dimensionality\n",
      "2023-12-16 16:01:12,483 - BERTopic - Clustered reduced embeddings\n",
      "2023-12-16 16:01:30,074 - BERTopic - Reduced number of topics from 131 to 10\n"
     ]
    },
    {
     "name": "stdout",
     "output_type": "stream",
     "text": [
      "[S2.] \t Topics Modeled\n",
      "   Topic  Count                                               Name\n",
      "0     -1    498               -1_mercado_hbpm_enoxaparina_millones\n",
      "1      0   2486              0_ingresos_financieros_9m_previsiones\n",
      "2      1    289  1_esquizofrenia_prescripción_tratamiento_corle...\n",
      "3      2     95  2_consejeros_secretario_nombramientos_administ...\n",
      "4      3     50                          3_países_brasil_q3_bosnia\n",
      "5      4     46                            4_nivel_independencia__\n",
      "6      5     36                    5_cox_exxiv_selectivo_inhibidor\n",
      "7      6     21         6_auditoría_auditores_experto_alternativas\n",
      "8      7     15                7_vacuna_campaña_vacunas_vacunación\n",
      "9      8     15            8_breezhaler_pulmonar_novartis_hirobriz\n",
      "Topics details for company Rovi saved to disk. File 'results/topics/topics_details_lowsim_Rovi_es.xlsx'\n",
      "[27/30]\t** Sentences and Embeddings Creation for Company 'Sacyr' **\n",
      "** Extracting topics on low similarity PR for Company 'Sacyr' **\n",
      "\t - Language : english\n",
      "\tExtracting 49 PR with low similarity...\n",
      "[S1-s.] \t Tonekize sentences\n",
      "[S1-e.] \t Sentences tonenized saved to disk. Total nr. sentences = 787.\n",
      "[S2-s.] \t Starting with embeddings creation.\n"
     ]
    },
    {
     "data": {
      "application/vnd.jupyter.widget-view+json": {
       "model_id": "28a07cb9f0a14678b1207e02db2cd3ac",
       "version_major": 2,
       "version_minor": 0
      },
      "text/plain": [
       "Batches:   0%|          | 0/25 [00:00<?, ?it/s]"
      ]
     },
     "metadata": {},
     "output_type": "display_data"
    },
    {
     "name": "stdout",
     "output_type": "stream",
     "text": [
      "[S2-e.] \t Embeddings file data/embeddings/Sacyr_lowsim_en.pkl saved to disk.\n",
      "[S2.] \t Embeddings imported from {filename}. Starting topic modeling...\n"
     ]
    },
    {
     "name": "stderr",
     "output_type": "stream",
     "text": [
      "2023-12-16 16:01:38,562 - BERTopic - Reduced dimensionality\n",
      "2023-12-16 16:01:38,575 - BERTopic - Clustered reduced embeddings\n",
      "2023-12-16 16:01:42,513 - BERTopic - Reduced number of topics from 20 to 10\n"
     ]
    },
    {
     "name": "stdout",
     "output_type": "stream",
     "text": [
      "[S2.] \t Topics Modeled\n",
      "   Topic  Count                                             Name\n",
      "0     -1    254              -1_beds_hospital_projects_proposals\n",
      "1      0    130  0_sustainability_innovation_committee_corporate\n",
      "2      1    110                    1_debt_million_shares_backlog\n",
      "3      2     83                2_climate_emissions_carbon_energy\n",
      "4      3     60                     3_highway_route_lane_traffic\n",
      "5      4     39       4_infrastructures_industrial_divisions_epc\n",
      "6      5     36                5_chile_colombia_financing_mexico\n",
      "7      6     32          6_water_membranes_filtration_underwater\n",
      "8      7     29                  7_waste_cleaning_urban_circular\n",
      "9      8     14                    8_vessels_locks_canal_transit\n",
      "Topics details for company Sacyr saved to disk. File 'results/topics/topics_details_lowsim_Sacyr_en.xlsx'\n",
      "\t - Language : spanish\n",
      "\tExtracting 49 PR with low similarity...\n",
      "[S1-s.] \t Tonekize sentences\n",
      "[S1-e.] \t Sentences tonenized saved to disk. Total nr. sentences = 785.\n",
      "[S2-s.] \t Starting with embeddings creation.\n"
     ]
    },
    {
     "data": {
      "application/vnd.jupyter.widget-view+json": {
       "model_id": "35bbf287db084c718caf244d067caedc",
       "version_major": 2,
       "version_minor": 0
      },
      "text/plain": [
       "Batches:   0%|          | 0/25 [00:00<?, ?it/s]"
      ]
     },
     "metadata": {},
     "output_type": "display_data"
    },
    {
     "name": "stdout",
     "output_type": "stream",
     "text": [
      "[S2-e.] \t Embeddings file data/embeddings/Sacyr_lowsim_es.pkl saved to disk.\n",
      "[S2.] \t Embeddings imported from {filename}. Starting topic modeling...\n"
     ]
    },
    {
     "name": "stderr",
     "output_type": "stream",
     "text": [
      "2023-12-16 16:01:51,131 - BERTopic - Reduced dimensionality\n",
      "2023-12-16 16:01:51,144 - BERTopic - Clustered reduced embeddings\n",
      "2023-12-16 16:01:55,229 - BERTopic - Reduced number of topics from 22 to 10\n"
     ]
    },
    {
     "name": "stdout",
     "output_type": "stream",
     "text": [
      "[S2.] \t Topics Modeled\n",
      "   Topic  Count                                              Name\n",
      "0     -1    211          -1_servicios_gestión_membranas_proyectos\n",
      "1      0    265   0_sostenibilidad_negocio_innovación_corporativo\n",
      "2      1     69                 1_carbono_emisiones_co2_climático\n",
      "3      2     64                 2_autopista_ruta_kilómetros_rutas\n",
      "4      3     59       3_chile_colombia_latinoamérica_financiación\n",
      "5      4     41             4_agua_residuos_circular_conservación\n",
      "6      5     34                  5_deuda_fondos_principles_cierre\n",
      "7      6     14               6_buques_canal_barcos_embarcaciones\n",
      "8      7     14  7_seguridad_confidencialidad_riesgos_continuidad\n",
      "9      8     14                  8_m2_hospitales_hospitalaria_629\n",
      "Topics details for company Sacyr saved to disk. File 'results/topics/topics_details_lowsim_Sacyr_es.xlsx'\n",
      "[28/30]\t** Sentences and Embeddings Creation for Company 'Solaria' **\n",
      "** Extracting topics on low similarity PR for Company 'Solaria' **\n",
      "\t - Language : english\n",
      "\tExtracting 34 PR with low similarity...\n",
      "[S1-s.] \t Tonekize sentences\n",
      "[S1-e.] \t Sentences tonenized saved to disk. Total nr. sentences = 326.\n",
      "[S2-s.] \t Starting with embeddings creation.\n"
     ]
    },
    {
     "data": {
      "application/vnd.jupyter.widget-view+json": {
       "model_id": "8e98eb89077e4e90905dcff27e385c08",
       "version_major": 2,
       "version_minor": 0
      },
      "text/plain": [
       "Batches:   0%|          | 0/11 [00:00<?, ?it/s]"
      ]
     },
     "metadata": {},
     "output_type": "display_data"
    },
    {
     "name": "stdout",
     "output_type": "stream",
     "text": [
      "[S2-e.] \t Embeddings file data/embeddings/Solaria_lowsim_en.pkl saved to disk.\n",
      "[S2.] \t Embeddings imported from {filename}. Starting topic modeling...\n"
     ]
    },
    {
     "name": "stderr",
     "output_type": "stream",
     "text": [
      "2023-12-16 16:02:01,765 - BERTopic - Reduced dimensionality\n",
      "2023-12-16 16:02:01,771 - BERTopic - Clustered reduced embeddings\n",
      "2023-12-16 16:02:02,482 - BERTopic - Reduced number of topics from 3 to 3\n"
     ]
    },
    {
     "name": "stdout",
     "output_type": "stream",
     "text": [
      "[S2.] \t Topics Modeled\n",
      "   Topic  Count                                    Name\n",
      "0      0     33  0_enrique_solaria_relation_commitments\n",
      "1      1     38               1_euros_3q23_invests_save\n",
      "2      2    255    2_company_photovoltaic_solaria_solar\n",
      "Topics details for company Solaria saved to disk. File 'results/topics/topics_details_lowsim_Solaria_en.xlsx'\n",
      "\t - Language : spanish\n",
      "\tExtracting 35 PR with low similarity...\n",
      "[S1-s.] \t Tonekize sentences\n",
      "[S1-e.] \t Sentences tonenized saved to disk. Total nr. sentences = 270.\n",
      "[S2-s.] \t Starting with embeddings creation.\n"
     ]
    },
    {
     "data": {
      "application/vnd.jupyter.widget-view+json": {
       "model_id": "71e529a82e3243128f8ea3dea1687c05",
       "version_major": 2,
       "version_minor": 0
      },
      "text/plain": [
       "Batches:   0%|          | 0/9 [00:00<?, ?it/s]"
      ]
     },
     "metadata": {},
     "output_type": "display_data"
    },
    {
     "name": "stdout",
     "output_type": "stream",
     "text": [
      "[S2-e.] \t Embeddings file data/embeddings/Solaria_lowsim_es.pkl saved to disk.\n",
      "[S2.] \t Embeddings imported from {filename}. Starting topic modeling...\n"
     ]
    },
    {
     "name": "stderr",
     "output_type": "stream",
     "text": [
      "2023-12-16 16:02:08,350 - BERTopic - Reduced dimensionality\n",
      "2023-12-16 16:02:08,355 - BERTopic - Clustered reduced embeddings\n",
      "2023-12-16 16:02:08,811 - BERTopic - Reduced number of topics from 2 to 2\n"
     ]
    },
    {
     "name": "stdout",
     "output_type": "stream",
     "text": [
      "[S2.] \t Topics Modeled\n",
      "   Topic  Count                               Name\n",
      "0      0     47       0_2023_euros_solaria_octubre\n",
      "1      1    223  1_solaria_energía_solar_proyectos\n",
      "Topics details for company Solaria saved to disk. File 'results/topics/topics_details_lowsim_Solaria_es.xlsx'\n",
      "[29/30]\t** Sentences and Embeddings Creation for Company 'Telefonica' **\n",
      "** Extracting topics on low similarity PR for Company 'Telefonica' **\n",
      "\t - Language : english\n",
      "\tExtracting 154 PR with low similarity...\n",
      "[S1-s.] \t Tonekize sentences\n",
      "[S1-e.] \t Sentences tonenized saved to disk. Total nr. sentences = 4084.\n",
      "[S2-s.] \t Starting with embeddings creation.\n"
     ]
    },
    {
     "data": {
      "application/vnd.jupyter.widget-view+json": {
       "model_id": "e93e7d28ab1747a2bd9e1609d6ebf2cb",
       "version_major": 2,
       "version_minor": 0
      },
      "text/plain": [
       "Batches:   0%|          | 0/128 [00:00<?, ?it/s]"
      ]
     },
     "metadata": {},
     "output_type": "display_data"
    },
    {
     "name": "stdout",
     "output_type": "stream",
     "text": [
      "[S2-e.] \t Embeddings file data/embeddings/Telefonica_lowsim_en.pkl saved to disk.\n",
      "[S2.] \t Embeddings imported from {filename}. Starting topic modeling...\n"
     ]
    },
    {
     "name": "stderr",
     "output_type": "stream",
     "text": [
      "2023-12-16 16:02:43,980 - BERTopic - Reduced dimensionality\n",
      "2023-12-16 16:02:44,058 - BERTopic - Clustered reduced embeddings\n",
      "2023-12-16 16:02:57,491 - BERTopic - Reduced number of topics from 90 to 10\n"
     ]
    },
    {
     "name": "stdout",
     "output_type": "stream",
     "text": [
      "[S2.] \t Topics Modeled\n",
      "   Topic  Count                                               Name\n",
      "0     -1   1402                  -1_services_data_companies_mobile\n",
      "1      0   2173                         0_5g_mobile_network_growth\n",
      "2      1    208            1_security_cybersecurity_threat_threats\n",
      "3      2    137               2_energy_emissions_climate_renewable\n",
      "4      3     49             3_open_entrepreneurship_wayra_startups\n",
      "5      4     47                        4_tour_driver_wearer_riders\n",
      "6      5     23                       5_chile_mexico_colombia_peru\n",
      "7      6     18               6_airport_airports_accessibility_app\n",
      "8      7     15                  7_water_watering_processes_canals\n",
      "9      8     12  8_healthcare_telehealth_disabilities_nutrition...\n",
      "Topics details for company Telefonica saved to disk. File 'results/topics/topics_details_lowsim_Telefonica_en.xlsx'\n",
      "\t - Language : spanish\n",
      "\tExtracting 368 PR with low similarity...\n",
      "[S1-s.] \t Tonekize sentences\n",
      "[S1-e.] \t Sentences tonenized saved to disk. Total nr. sentences = 7711.\n",
      "[S2-s.] \t Starting with embeddings creation.\n"
     ]
    },
    {
     "data": {
      "application/vnd.jupyter.widget-view+json": {
       "model_id": "9151b47388d148459fa7d6d3de52ae17",
       "version_major": 2,
       "version_minor": 0
      },
      "text/plain": [
       "Batches:   0%|          | 0/241 [00:00<?, ?it/s]"
      ]
     },
     "metadata": {},
     "output_type": "display_data"
    },
    {
     "name": "stdout",
     "output_type": "stream",
     "text": [
      "[S2-e.] \t Embeddings file data/embeddings/Telefonica_lowsim_es.pkl saved to disk.\n",
      "[S2.] \t Embeddings imported from {filename}. Starting topic modeling...\n"
     ]
    },
    {
     "name": "stderr",
     "output_type": "stream",
     "text": [
      "2023-12-16 16:03:46,094 - BERTopic - Reduced dimensionality\n",
      "2023-12-16 16:03:46,247 - BERTopic - Clustered reduced embeddings\n",
      "2023-12-16 16:04:23,002 - BERTopic - Reduced number of topics from 144 to 10\n"
     ]
    },
    {
     "name": "stdout",
     "output_type": "stream",
     "text": [
      "[S2.] \t Topics Modeled\n",
      "   Topic  Count                                              Name\n",
      "0     -1   2929           -1_telefónica_madrid_digital_tecnología\n",
      "1      0   4459            0_telefónica_museo_pdfdescargar_madrid\n",
      "2      1    102    1_paciente_quirúrgico_temperatura_respiradores\n",
      "3      2     79  2_blockchain_privacidad_ciberseguridad_antivirus\n",
      "4      3     52               3_perú_colombia_chile_latinoamérica\n",
      "5      4     24            4_snowboard_esquí_esquiadores_synergic\n",
      "6      5     24      5_oftalmología_oftalmológico_corneal_ceguera\n",
      "7      6     18                 6_ciclismo_ciclistas_mujeres_bike\n",
      "8      7     14       7_desktop_citrix_virtualización_escritorios\n",
      "9      8     10       8_emociones_emotions_emoción_esperanzadores\n",
      "Topics details for company Telefonica saved to disk. File 'results/topics/topics_details_lowsim_Telefonica_es.xlsx'\n",
      "CPU times: user 2h 45min 59s, sys: 38min 40s, total: 3h 24min 39s\n",
      "Wall time: 49min 31s\n"
     ]
    }
   ],
   "source": [
    "%%time\n",
    "#  companies = [\"Endesa\"]\n",
    "labels = [\"en\", \"es\"]\n",
    "languages = [\"english\", \"spanish\"]\n",
    "bert_languages = [\"english\", \"spanish\"]\n",
    "\n",
    "topics_analysis = False  # does not seem to be too informative\n",
    "\n",
    "for count, company in enumerate(companies):\n",
    "    print(f\"[{count:2.0f}/{len(companies)}]\\t** Sentences and Embeddings Creation for Company '{company}' **\")\n",
    "    name = company + \".xlsx\"\n",
    "    filename = os.path.join(\"data\", name)\n",
    "    df = pd.read_excel(filename)\n",
    "    df = df[~df.text.isna()]\n",
    "\n",
    "    sentence_tokenize(company, df)\n",
    "    embeddings_creation(company)\n",
    "    \n",
    "    #  NOTE: For Rovi, Santander, and Solaria, see comment above\n",
    "    get_similarity_scores(\n",
    "      company, transformer_type=\"laBSE\"\n",
    "    )  # models = \"laBSE\", \"paraphrase-multilingual-MiniLM-L12-v2\"\n",
    "\n",
    "    topics_on_low_similarity_pr(company, with_printing=False)\n",
    "\n",
    "    if topics_analysis:\n",
    "        topics_modeling(company)\n",
    "        match_topics(company)\n",
    "        \n",
    "print_summary_similarity(companies_all)"
   ]
  },
  {
   "cell_type": "code",
   "execution_count": null,
   "id": "7bfd06a2-6ebe-4ad8-bb81-383be7f61f53",
   "metadata": {},
   "outputs": [],
   "source": []
  }
 ],
 "metadata": {
  "kernelspec": {
   "display_name": "Python 3 (ipykernel)",
   "language": "python",
   "name": "python3"
  },
  "language_info": {
   "codemirror_mode": {
    "name": "ipython",
    "version": 3
   },
   "file_extension": ".py",
   "mimetype": "text/x-python",
   "name": "python",
   "nbconvert_exporter": "python",
   "pygments_lexer": "ipython3",
   "version": "3.10.9"
  }
 },
 "nbformat": 4,
 "nbformat_minor": 5
}
